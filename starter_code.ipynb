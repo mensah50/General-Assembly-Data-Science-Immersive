{
 "cells": [
  {
   "cell_type": "markdown",
   "metadata": {
    "focus": false,
    "id": "69b9a648-bcc7-490d-9f9b-ea244d156bd6"
   },
   "source": [
    "<img src=\"http://imgur.com/1ZcRyrc.png\" style=\"float: left; margin: 15px; height: 80px\">\n",
    "\n",
    "\n",
    "# Web Scraping for Indeed.com and Predicting Salaries"
   ]
  },
  {
   "cell_type": "markdown",
   "metadata": {},
   "source": [
    "### Business Case Overview\n",
    "\n",
    "You're working as a data scientist for a contracting firm that's rapidly expanding. Now that they have their most valuable employee (you!), they need to leverage data to win more contracts. Your firm offers technology and scientific solutions and wants to be competitive in the hiring market. Your principal wants you to\n",
    "\n",
    "   - determine the industry factors that are most important in predicting the salary amounts for these data.\n",
    "\n",
    "To limit the scope, your principal has suggested that you *focus on data-related job postings*, e.g. data scientist, data analyst, research scientist, business intelligence, and any others you might think of. You may also want to decrease the scope by *limiting your search to a single region.*\n",
    "\n",
    "Hint: Aggregators like [Indeed.com](https://www.indeed.com) regularly pool job postings from a variety of markets and industries.\n",
    "\n",
    "**Goal:** Scrape your own data from a job aggregation tool like Indeed.com in order to collect the data to best answer this question.\n",
    "\n",
    "---\n",
    "\n",
    "### Directions\n",
    "\n",
    "In this project you will be leveraging a variety of skills. The first will be to use the web-scraping and/or API techniques you've learned to collect data on data jobs from Indeed.com or another aggregator. Once you have collected and cleaned the data, you will use it to address the question above."
   ]
  },
  {
   "cell_type": "markdown",
   "metadata": {},
   "source": [
    "### Factors that impact salary\n",
    "\n",
    "To predict salary the most appropriate approach would be a regression model.\n",
    "Here instead we just want to estimate which factors (like location, job title, job level, industry sector) lead to high or low salary and work with a classification model. To do so, split the salary into two groups of high and low salary, for example by choosing the median salary as a threshold (in principle you could choose any single or multiple splitting points).\n",
    "\n",
    "Use all the skills you have learned so far to build a predictive model.\n",
    "Whatever you decide to use, the most important thing is to justify your choices and interpret your results. *Communication of your process is key.* Note that most listings **DO NOT** come with salary information. You'll need to be able to extrapolate or predict the expected salaries for these listings."
   ]
  },
  {
   "cell_type": "markdown",
   "metadata": {
    "focus": false,
    "id": "a948d79c-5527-4c0d-ab23-f5d43ce72056"
   },
   "source": [
    "### Scraping job listings from Indeed.com"
   ]
  },
  {
   "cell_type": "markdown",
   "metadata": {
    "focus": true,
    "id": "7203e0c9-e437-4802-a6ad-7dc464f94436"
   },
   "source": [
    "We will be scraping job listings from Indeed.com using BeautifulSoup. Luckily, Indeed.com is a simple text page where we can easily find relevant entries.\n",
    "\n",
    "First, look at the source of an Indeed.com page: (http://www.indeed.com/jobs?q=data+scientist+%2420%2C000&l=New+York&start=10\").\n",
    "\n",
    "Notice, each job listing is underneath a `div` tag with a class name of `result`. We can use BeautifulSoup to extract those. "
   ]
  },
  {
   "cell_type": "markdown",
   "metadata": {
    "focus": false,
    "id": "9732c901-ae26-4160-8376-42e22dd327df"
   },
   "source": [
    "#### Setup a request (using `requests`) to the URL below. Use BeautifulSoup to parse the page and extract all results (HINT: Look for div tags with class name result)\n",
    "\n",
    "The URL here has many query parameters:\n",
    "\n",
    "- `q` for the job search\n",
    "- This is followed by \"+20,000\" to return results with salaries (or expected salaries >$20,000)\n",
    "- `l` for a location \n",
    "- `start` for what result number to start on"
   ]
  },
  {
   "cell_type": "code",
   "execution_count": 1,
   "metadata": {
    "focus": false,
    "id": "2efefc73-064a-482d-b3b5-ddf5508cb4ec"
   },
   "outputs": [],
   "source": [
    "import requests\n",
    "import bs4\n",
    "from bs4 import BeautifulSoup\n",
    "import pandas as pd\n",
    "from tqdm import tqdm\n",
    "from selenium import webdriver\n",
    "from time import time, sleep\n",
    "import numpy as np\n",
    "import re\n",
    "import sweetviz"
   ]
  },
  {
   "cell_type": "code",
   "execution_count": 2,
   "metadata": {
    "focus": false,
    "id": "2c6752c4-7704-4c94-8bc0-6f13d2d0d570"
   },
   "outputs": [],
   "source": [
    "pd.set_option('max_rows', 250, 'max_columns', 100)"
   ]
  },
  {
   "cell_type": "code",
   "execution_count": 3,
   "metadata": {
    "focus": false,
    "id": "e915023e-6b0d-4982-af2a-b1e0355f4927"
   },
   "outputs": [
    {
     "data": {
      "text/plain": [
       "[<div class=\"jobsearch-SerpJobCard unifiedRow row result\" data-ci=\"358828147\" data-empn=\"3916285824926666\" data-jk=\"12e4f378a387252b\" id=\"pj_12e4f378a387252b\">\n",
       " <style>\n",
       " .jobcard_logo{margin:6px 0}.jobcard_logo img{width:auto;max-width:80px;max-height:30px}.jasxrefreshcombotst .jobcard_logo img{max-height:2rem;max-width:100%}\n",
       " </style>\n",
       " <h2 class=\"title\">\n",
       " <a class=\"jobtitle turnstileLink\" data-tn-element=\"jobTitle\" href=\"/pagead/clk?mo=r&amp;ad=-6NYlbfkN0D-ce4GT5D_S5EFhkjqF6KrfkUuIXgHqfPbawmXBDzkY37HrqmV6D6RLNqm2tcsbdaQp2doy9pZTAEIorglQ0duyeI4PSuAl89XEv8VRo4y7rnC9T_cYGsuIRwcSHWkQ9cv7EnA7akGVQ1jNfOreirymEBdGzswpGF-pTBOx4MlRyMBu1ktGx18YxHnBF35FmHYjv6lksji_S_JoGPxYTzVNQjBmtmljVuS40ri8uq4EksIEhBUOVaLLT8BAgTMibejyPRHBAby_Qexe6D4vm-eFPtmpjGBzMVdDh_qEogIbcAYJa1zqy_l6kYlal67Axd16AJ7ky3bDjWD5hpGLmjq9ozB16HLDGrMO3eZfiNbv8iQwRErrRmX0HFXzu3kxhyIlrwKptw_Yz9bLSqKoERJ9f0lw8dpLrwnRCh-sfSdrLUDqzXWZpahIaT1YP4g13k=&amp;p=0&amp;fvj=1&amp;vjs=3\" id=\"sja0\" onclick=\"setRefineByCookie([]); sjoc('sja0', 1); convCtr('SJ'); rclk(this,jobmap[0],true,1);\" onmousedown=\"sjomd('sja0'); clk('sja0'); rclk(this,jobmap[0],1);\" rel=\"noopener nofollow\" target=\"_blank\" title=\"Data Engineer\">\n",
       " <b>Data</b> Engineer</a>\n",
       " <span class=\"new\">new</span></h2>\n",
       " <div class=\"sjcl\">\n",
       " <div>\n",
       " <span class=\"company\">\n",
       " HyperJar Limited</span>\n",
       " </div>\n",
       " <div class=\"recJobLoc\" data-rc-loc=\"London\" id=\"recJobLoc_12e4f378a387252b\" style=\"display: none\"></div>\n",
       " <div class=\"location accessible-contrast-color-location\">London W2 6LG</div>\n",
       " <span class=\"remote-bullet\">•</span>\n",
       " <span class=\"remote\">Temporarily remote</span>\n",
       " </div>\n",
       " <div class=\"salarySnippet salarySnippetDemphasizeholisticSalary\">\n",
       " <span class=\"salary no-wrap\">\n",
       " <span class=\"salaryText\">\n",
       " £35,000 - £50,000 a year</span>\n",
       " </span>\n",
       " </div>\n",
       " <div class=\"jobCardReqContainer\"><div class=\"jobCardReqHeader\">Requirements</div><div class=\"jobCardReqList\"><div class=\"jobCardReqItem\">Graphically Representing Data: 2 years</div><div class=\"jobCardReqItem\">ETL: 2 years</div></div></div><table class=\"jobCardShelfContainer\" role=\"presentation\"><tr class=\"jobCardShelf\"><td class=\"jobCardShelfItem indeedApply\"><span class=\"jobCardShelfIcon\"><svg fill=\"none\" height=\"16\" viewbox=\"0 0 20 20\" width=\"16\"><rect fill=\"#FF5A1F\" height=\"20\" rx=\"10\" width=\"20\"></rect><path clip-rule=\"evenodd\" d=\"M15.3125 4.0625L10.8125 15.3125L7.99999 11.375L15.3125 4.0625ZM7.604 12.7576L6.875 15.3125L8.567 14.1054L7.604 12.7576ZM7.20463 10.5796L12.419 5.36525L4.0625 9.125L6.9875 10.7968L7.20463 10.5796Z\" fill=\"white\" fill-rule=\"evenodd\"></path></svg></span><span class=\"iaLabel iaIconActive\">Easily apply to this job</span></td></tr></table><div class=\"summary\">\n",
       " <ul style=\"list-style-type:circle;margin-top: 0px;margin-bottom: 0px;padding-left:20px;\">\n",
       " <li>Working with a variety of internal and third party <b>data</b> sources to build a full <b>data</b> model for powerful business intelligence modelling.</li>\n",
       " </ul></div>\n",
       " <div class=\"jobsearch-SerpJobCard-footer\">\n",
       " <div class=\"jobsearch-SerpJobCard-footerActions\">\n",
       " <div class=\"result-link-bar-container\">\n",
       " <div class=\"result-link-bar\"><span class=\"date\">Just posted</span><span class=\"tt_set\" id=\"tt_set_0\"><span class=\"result-link-bar-separator\">·</span><a class=\"sl resultLink save-job-link\" href=\"#\" id=\"sj_12e4f378a387252b\" onclick=\"changeJobState('12e4f378a387252b', 'save', 'linkbar', true, ''); return false;\" title=\"Save this job to my.indeed\">Save job</a></span><div class=\"edit_note_content\" id=\"editsaved2_12e4f378a387252b\" style=\"display:none;\"></div><script>if (!window['sj_result_12e4f378a387252b']) {window['sj_result_12e4f378a387252b'] = {};}window['sj_result_12e4f378a387252b']['showSource'] = false; window['sj_result_12e4f378a387252b']['source'] = \"Indeed\"; window['sj_result_12e4f378a387252b']['loggedIn'] = false; window['sj_result_12e4f378a387252b']['showMyJobsLinks'] = false;window['sj_result_12e4f378a387252b']['undoAction'] = \"unsave\";window['sj_result_12e4f378a387252b']['relativeJobAge'] = \"Just posted\";window['sj_result_12e4f378a387252b']['jobKey'] = \"12e4f378a387252b\"; window['sj_result_12e4f378a387252b']['myIndeedAvailable'] = true; window['sj_result_12e4f378a387252b']['showMoreActionsLink'] = window['sj_result_12e4f378a387252b']['showMoreActionsLink'] || false; window['sj_result_12e4f378a387252b']['resultNumber'] = 0; window['sj_result_12e4f378a387252b']['jobStateChangedToSaved'] = false; window['sj_result_12e4f378a387252b']['searchState'] = \"q=data&amp;\"; window['sj_result_12e4f378a387252b']['basicPermaLink'] = \"https://www.indeed.co.uk\"; window['sj_result_12e4f378a387252b']['saveJobFailed'] = false; window['sj_result_12e4f378a387252b']['removeJobFailed'] = false; window['sj_result_12e4f378a387252b']['requestPending'] = false; window['sj_result_12e4f378a387252b']['notesEnabled'] = false; window['sj_result_12e4f378a387252b']['currentPage'] = \"serp\"; window['sj_result_12e4f378a387252b']['sponsored'] = true;window['sj_result_12e4f378a387252b']['reportJobButtonEnabled'] = false; window['sj_result_12e4f378a387252b']['showMyJobsHired'] = false; window['sj_result_12e4f378a387252b']['showSaveForSponsored'] = true; window['sj_result_12e4f378a387252b']['showJobAge'] = true; window['sj_result_12e4f378a387252b']['showHolisticCard'] = true; window['sj_result_12e4f378a387252b']['showDislike'] = false; window['sj_result_12e4f378a387252b']['showKebab'] = false; window['sj_result_12e4f378a387252b']['showReport'] = false;</script></div></div>\n",
       " </div>\n",
       " </div>\n",
       " <div class=\"tab-container\">\n",
       " <div class=\"sign-in-container result-tab\"></div>\n",
       " <div class=\"tellafriend-container result-tab email_job_content\"></div>\n",
       " </div>\n",
       " </div>,\n",
       " <div class=\"jobsearch-SerpJobCard unifiedRow row result\" data-ci=\"358830933\" data-empn=\"3822538384535381\" data-jk=\"6d6923879b3aa4bc\" id=\"pj_6d6923879b3aa4bc\">\n",
       " <style>\n",
       " .jobcard_logo{margin:6px 0}.jobcard_logo img{width:auto;max-width:80px;max-height:30px}.jasxrefreshcombotst .jobcard_logo img{max-height:2rem;max-width:100%}\n",
       " </style>\n",
       " <h2 class=\"title\">\n",
       " <a class=\"jobtitle turnstileLink\" data-tn-element=\"jobTitle\" href=\"/pagead/clk?mo=r&amp;ad=-6NYlbfkN0ACr7MZo8r3uuCdGzGzpHokfTwju4-WOwYKxEDdnztEItFemd_onX7or2i7mJnx9LxLBFsKdjU8X8L61oOw-zd74IDPuIWdY_bpmSsWydE4AnzKDLEIQyKTO2TfS9fi_FrOCapUXAbnyqR-siysy3j-sNWrSYzI-4jz8e41v3LJzDFFyc2cmSdKgEZpBGMbD5A6sl9ancxz_pl0K448G-xPGJlmGrplZY_bSekDEEcTSt4T0XHe0d8klFzCzG0k9n6XjZoj7ue7-t_hYV5HDym1IM4auUiLdcHBRx78-YS5VhbNoSCOXETf6xSQPsrPVB5TsRGqekhvLegYqYW_EO_byRyeks2wl0KaSr0EqxQ-JiT-5KZ1VAGnLUyoTCVrvnFd4Zr0sHtx-qAcdUy7u1PuUQpWK3JCUwgB5KFgqjDdzHDANxx95brU&amp;p=1&amp;fvj=1&amp;vjs=3\" id=\"sja1\" onclick=\"setRefineByCookie([]); sjoc('sja1', 1); convCtr('SJ'); rclk(this,jobmap[1],true,1);\" onmousedown=\"sjomd('sja1'); clk('sja1'); rclk(this,jobmap[1],1);\" rel=\"noopener nofollow\" target=\"_blank\" title=\"Data Entry Administrator\">\n",
       " <b>Data</b> Entry Administrator</a>\n",
       " <span class=\"new\">new</span></h2>\n",
       " <div class=\"sjcl\">\n",
       " <div>\n",
       " <span class=\"company\">\n",
       " Simon Charles Auctioneers &amp; Valuers</span>\n",
       " </div>\n",
       " <div class=\"recJobLoc\" data-rc-loc=\"Stockport\" id=\"recJobLoc_6d6923879b3aa4bc\" style=\"display: none\"></div>\n",
       " <div class=\"location accessible-contrast-color-location\">Stockport SK6 2SD</div>\n",
       " </div>\n",
       " <div class=\"salarySnippet salarySnippetDemphasizeholisticSalary\">\n",
       " <span class=\"salary no-wrap\">\n",
       " <span class=\"salaryText\">\n",
       " £8.72 an hour</span>\n",
       " </span>\n",
       " </div>\n",
       " <div class=\"jobCardReqContainer\"><div class=\"jobCardReqHeader\">Requirements</div><div class=\"jobCardReqList\"><div class=\"jobCardReqItem\">GCSE or equivalent</div></div></div><table class=\"jobCardShelfContainer\" role=\"presentation\"><tr class=\"jobCardShelf\"><td class=\"jobCardShelfItem indeedApply\"><span class=\"jobCardShelfIcon\"><svg fill=\"none\" height=\"16\" viewbox=\"0 0 20 20\" width=\"16\"><rect fill=\"#FF5A1F\" height=\"20\" rx=\"10\" width=\"20\"></rect><path clip-rule=\"evenodd\" d=\"M15.3125 4.0625L10.8125 15.3125L7.99999 11.375L15.3125 4.0625ZM7.604 12.7576L6.875 15.3125L8.567 14.1054L7.604 12.7576ZM7.20463 10.5796L12.419 5.36525L4.0625 9.125L6.9875 10.7968L7.20463 10.5796Z\" fill=\"white\" fill-rule=\"evenodd\"></path></svg></span><span class=\"iaLabel iaIconActive\">Easily apply to this job</span></td><td class=\"jobCardShelfItem responsiveEmployer\"><span class=\"jobCardShelfIcon\"><svg height=\"16px\" version=\"1.1\" viewbox=\"0 0 16 16\" width=\"16px\" xmlns=\"http://www.w3.org/2000/svg\" xmlns:xlink=\"http://www.w3.org/1999/xlink\"><g fill=\"none\" fill-rule=\"evenodd\" id=\"ResponsiveEmployer16px-6d6923879b3aa4bc\" stroke=\"none\" stroke-width=\"1\"><rect fill=\"#085FF7\" fill-rule=\"nonzero\" height=\"16\" id=\"Rectangle-Copy-4\" rx=\"8\" width=\"16\" x=\"0\" y=\"0\"></rect><polygon fill=\"#FFFFFF\" id=\"Fill-1\" points=\"6.59966298 4 5 8.7410974 7.53346172 8.7410974 6.8668753 12 11 6.81432441 8.33293211 6.81432441 9.66610496 4\"></polygon></g></svg></span>Responsive employer</td><td class=\"jobCardShelfItem urgentlyHiring\"><span class=\"jobCardShelfIcon\"><svg fill=\"none\" height=\"16\" viewbox=\"0 0 16 16\" width=\"16\"><rect fill=\"#DB183F\" height=\"16\" rx=\"8\" width=\"16\"></rect><g clip-path=\"url(#clip0)\"><path clip-rule=\"evenodd\" d=\"M7.99515 3.20001C5.34555 3.20001 3.19995 5.35041 3.19995 8.00001C3.19995 10.6496 5.34555 12.8 7.99515 12.8C10.6496 12.8 12.8 10.6496 12.8 8.00001C12.8 5.35041 10.6496 3.20001 7.99515 3.20001ZM7.99995 11.84C5.87835 11.84 4.15995 10.1216 4.15995 8.00001C4.15995 5.87841 5.87835 4.16001 7.99995 4.16001C10.1216 4.16001 11.84 5.87841 11.84 8.00001C11.84 10.1216 10.1216 11.84 7.99995 11.84Z\" fill=\"white\" fill-rule=\"evenodd\"></path><path clip-rule=\"evenodd\" d=\"M8.24002 5.60001H7.52002V8.48001L10.04 9.99201L10.4 9.40161L8.24002 8.12001V5.60001Z\" fill=\"white\" fill-rule=\"evenodd\"></path></g><defs><clippath><rect fill=\"white\" height=\"9.6\" transform=\"translate(3.19995 3.20001)\" width=\"9.6\"></rect></clippath></defs></svg></span>Urgently needed</td></tr></table><div class=\"summary\">\n",
       " <ul style=\"list-style-type:circle;margin-top: 0px;margin-bottom: 0px;padding-left:20px;\">\n",
       " <li style=\"margin-bottom:0px;\">Data entry: 1 year (Preferred).</li>\n",
       " <li>We are looking to recruit a computer literate individual who will be able to work within a team to catalogue stock prior to…</li>\n",
       " </ul></div>\n",
       " <div class=\"jobsearch-SerpJobCard-footer\">\n",
       " <div class=\"jobsearch-SerpJobCard-footerActions\">\n",
       " <div class=\"result-link-bar-container\">\n",
       " <div class=\"result-link-bar\"><span class=\"date\">Just posted</span><span class=\"tt_set\" id=\"tt_set_1\"><span class=\"result-link-bar-separator\">·</span><a class=\"sl resultLink save-job-link\" href=\"#\" id=\"sj_6d6923879b3aa4bc\" onclick=\"changeJobState('6d6923879b3aa4bc', 'save', 'linkbar', true, ''); return false;\" title=\"Save this job to my.indeed\">Save job</a></span><div class=\"edit_note_content\" id=\"editsaved2_6d6923879b3aa4bc\" style=\"display:none;\"></div><script>if (!window['sj_result_6d6923879b3aa4bc']) {window['sj_result_6d6923879b3aa4bc'] = {};}window['sj_result_6d6923879b3aa4bc']['showSource'] = false; window['sj_result_6d6923879b3aa4bc']['source'] = \"Indeed\"; window['sj_result_6d6923879b3aa4bc']['loggedIn'] = false; window['sj_result_6d6923879b3aa4bc']['showMyJobsLinks'] = false;window['sj_result_6d6923879b3aa4bc']['undoAction'] = \"unsave\";window['sj_result_6d6923879b3aa4bc']['relativeJobAge'] = \"Just posted\";window['sj_result_6d6923879b3aa4bc']['jobKey'] = \"6d6923879b3aa4bc\"; window['sj_result_6d6923879b3aa4bc']['myIndeedAvailable'] = true; window['sj_result_6d6923879b3aa4bc']['showMoreActionsLink'] = window['sj_result_6d6923879b3aa4bc']['showMoreActionsLink'] || false; window['sj_result_6d6923879b3aa4bc']['resultNumber'] = 1; window['sj_result_6d6923879b3aa4bc']['jobStateChangedToSaved'] = false; window['sj_result_6d6923879b3aa4bc']['searchState'] = \"q=data&amp;\"; window['sj_result_6d6923879b3aa4bc']['basicPermaLink'] = \"https://www.indeed.co.uk\"; window['sj_result_6d6923879b3aa4bc']['saveJobFailed'] = false; window['sj_result_6d6923879b3aa4bc']['removeJobFailed'] = false; window['sj_result_6d6923879b3aa4bc']['requestPending'] = false; window['sj_result_6d6923879b3aa4bc']['notesEnabled'] = false; window['sj_result_6d6923879b3aa4bc']['currentPage'] = \"serp\"; window['sj_result_6d6923879b3aa4bc']['sponsored'] = true;window['sj_result_6d6923879b3aa4bc']['reportJobButtonEnabled'] = false; window['sj_result_6d6923879b3aa4bc']['showMyJobsHired'] = false; window['sj_result_6d6923879b3aa4bc']['showSaveForSponsored'] = true; window['sj_result_6d6923879b3aa4bc']['showJobAge'] = true; window['sj_result_6d6923879b3aa4bc']['showHolisticCard'] = true; window['sj_result_6d6923879b3aa4bc']['showDislike'] = false; window['sj_result_6d6923879b3aa4bc']['showKebab'] = false; window['sj_result_6d6923879b3aa4bc']['showReport'] = false;</script></div></div>\n",
       " </div>\n",
       " </div>\n",
       " <div class=\"tab-container\">\n",
       " <div class=\"sign-in-container result-tab\"></div>\n",
       " <div class=\"tellafriend-container result-tab email_job_content\"></div>\n",
       " </div>\n",
       " </div>,\n",
       " <div class=\"jobsearch-SerpJobCard unifiedRow row result\" data-jk=\"1c37153109ae5b2c\" data-tn-component=\"organicJob\" id=\"p_1c37153109ae5b2c\">\n",
       " <h2 class=\"title\">\n",
       " <a class=\"jobtitle turnstileLink\" data-tn-element=\"jobTitle\" href=\"/rc/clk?jk=1c37153109ae5b2c&amp;fccid=caed318a9335aac0&amp;vjs=3\" id=\"jl_1c37153109ae5b2c\" onclick=\"setRefineByCookie([]); return rclk(this,jobmap[2],true,0);\" onmousedown=\"return rclk(this,jobmap[2],0);\" rel=\"noopener nofollow\" target=\"_blank\" title=\"Data Analyst\">\n",
       " <b>Data</b> Analyst</a>\n",
       " </h2>\n",
       " <div class=\"sjcl\">\n",
       " <div>\n",
       " <span class=\"company\">\n",
       " <a class=\"turnstileLink\" data-tn-element=\"companyName\" href=\"/cmp/Tiktok\" onmousedown=\"this.href = appendParamsOnce(this.href, 'from=SERP&amp;campaignid=serp-linkcompanyname&amp;fromjk=1c37153109ae5b2c&amp;jcid=caed318a9335aac0')\" rel=\"noopener\" target=\"_blank\">\n",
       " TikTok</a></span>\n",
       " <span class=\"ratingsDisplay\">\n",
       " <a class=\"ratingNumber\" data-tn-variant=\"cmplinktst2\" href=\"/cmp/Tiktok/reviews\" onmousedown=\"this.href = appendParamsOnce(this.href, '?campaignid=cmplinktst2&amp;from=SERP&amp;jt=Data+Analyst&amp;fromjk=1c37153109ae5b2c&amp;jcid=caed318a9335aac0');\" rel=\"noopener\" target=\"_blank\" title=\"Tiktok reviews\">\n",
       " <span class=\"ratingsContent\">\n",
       " 4.0<svg class=\"starIcon\" height=\"12px\" role=\"img\" width=\"12px\">\n",
       " <g>\n",
       " <path d=\"M 12.00,4.34 C 12.00,4.34 7.69,3.97 7.69,3.97 7.69,3.97 6.00,0.00 6.00,0.00 6.00,0.00 4.31,3.98 4.31,3.98 4.31,3.98 0.00,4.34 0.00,4.34 0.00,4.34 3.28,7.18 3.28,7.18 3.28,7.18 2.29,11.40 2.29,11.40 2.29,11.40 6.00,9.16 6.00,9.16 6.00,9.16 9.71,11.40 9.71,11.40 9.71,11.40 8.73,7.18 8.73,7.18 8.73,7.18 12.00,4.34 12.00,4.34 Z\" style=\"fill: #FFB103\"></path>\n",
       " </g>\n",
       " </svg>\n",
       " </span>\n",
       " </a>\n",
       " </span>\n",
       " </div>\n",
       " <div class=\"recJobLoc\" data-rc-loc=\"London\" id=\"recJobLoc_1c37153109ae5b2c\" style=\"display: none\"></div>\n",
       " <span class=\"location accessible-contrast-color-location\">London</span>\n",
       " </div>\n",
       " <div class=\"summary\">\n",
       " <ul style=\"list-style-type:circle;margin-top: 0px;margin-bottom: 0px;padding-left:20px;\">\n",
       " <li style=\"margin-bottom:0px;\">TikTok is looking for a full-time Insights <b>Data</b> Analyst, reporting into our Marketing Science department.</li>\n",
       " <li>You will support sales and marketing across internal…</li>\n",
       " </ul></div>\n",
       " <div class=\"jobsearch-SerpJobCard-footer\">\n",
       " <div class=\"jobsearch-SerpJobCard-footerActions\">\n",
       " <div class=\"result-link-bar-container\">\n",
       " <div class=\"result-link-bar\"><span class=\"date\">28 days ago</span><span class=\"tt_set\" id=\"tt_set_2\"><span class=\"result-link-bar-separator\">·</span><a class=\"sl resultLink save-job-link\" href=\"#\" id=\"sj_1c37153109ae5b2c\" onclick=\"changeJobState('1c37153109ae5b2c', 'save', 'linkbar', false, ''); return false;\" title=\"Save this job to my.indeed\">Save job</a><span class=\"result-link-bar-separator\">·</span><button aria-expanded=\"false\" class=\"sl resultLink more-link\" id=\"tog_2\" onclick=\"toggleMoreLinks('1c37153109ae5b2c', '2'); return false;\">More...</button></span><div class=\"edit_note_content\" id=\"editsaved2_1c37153109ae5b2c\" style=\"display:none;\"></div><script>if (!window['result_1c37153109ae5b2c']) {window['result_1c37153109ae5b2c'] = {};}window['result_1c37153109ae5b2c']['showSource'] = false; window['result_1c37153109ae5b2c']['source'] = \"TikTok\"; window['result_1c37153109ae5b2c']['loggedIn'] = false; window['result_1c37153109ae5b2c']['showMyJobsLinks'] = false;window['result_1c37153109ae5b2c']['undoAction'] = \"unsave\";window['result_1c37153109ae5b2c']['relativeJobAge'] = \"28 days ago\";window['result_1c37153109ae5b2c']['jobKey'] = \"1c37153109ae5b2c\"; window['result_1c37153109ae5b2c']['myIndeedAvailable'] = true; window['result_1c37153109ae5b2c']['showMoreActionsLink'] = window['result_1c37153109ae5b2c']['showMoreActionsLink'] || true; window['result_1c37153109ae5b2c']['resultNumber'] = 2; window['result_1c37153109ae5b2c']['jobStateChangedToSaved'] = false; window['result_1c37153109ae5b2c']['searchState'] = \"q=data&amp;\"; window['result_1c37153109ae5b2c']['basicPermaLink'] = \"https://www.indeed.co.uk\"; window['result_1c37153109ae5b2c']['saveJobFailed'] = false; window['result_1c37153109ae5b2c']['removeJobFailed'] = false; window['result_1c37153109ae5b2c']['requestPending'] = false; window['result_1c37153109ae5b2c']['notesEnabled'] = true; window['result_1c37153109ae5b2c']['currentPage'] = \"serp\"; window['result_1c37153109ae5b2c']['sponsored'] = false;window['result_1c37153109ae5b2c']['reportJobButtonEnabled'] = false; window['result_1c37153109ae5b2c']['showMyJobsHired'] = false; window['result_1c37153109ae5b2c']['showSaveForSponsored'] = false; window['result_1c37153109ae5b2c']['showJobAge'] = true; window['result_1c37153109ae5b2c']['showHolisticCard'] = true; window['result_1c37153109ae5b2c']['showDislike'] = false; window['result_1c37153109ae5b2c']['showKebab'] = false; window['result_1c37153109ae5b2c']['showReport'] = false;</script></div></div>\n",
       " </div>\n",
       " </div>\n",
       " <div class=\"tab-container\">\n",
       " <div class=\"more-links-container result-tab\" id=\"tt_display_0\" style=\"display:none;\"><div class=\"more_actions\" id=\"more_0\"><ul><li><span class=\"mat\">View all <a href=\"/Tiktok-jobs\">TikTok jobs</a> - <a href=\"/jobs-in-London\">London jobs</a></span></li><li><span class=\"mat\">Salary Search: <a href=\"/salaries/data-analyst-Salaries,-London-ENG\" onmousedown=\"this.href = appendParamsOnce(this.href, '?campaignid=serp-more&amp;fromjk=1c37153109ae5b2c&amp;from=serp-more');\">Data Analyst salaries in London</a></span></li><li><span class=\"mat\">Learn more about working at <a href=\"/cmp/Tiktok\" onmousedown=\"this.href = appendParamsOnce(this.href, '?fromjk=1c37153109ae5b2c&amp;from=serp-more&amp;campaignid=serp-more&amp;jcid=caed318a9335aac0');\">TikTok</a></span></li></ul></div><a class=\"close-link closeLink\" href=\"#\" onclick=\"toggleMoreLinks('1c37153109ae5b2c'); return false;\" title=\"Close\"></a></div><div class=\"dya-container result-tab\"></div>\n",
       " <div class=\"tellafriend-container result-tab email_job_content\"></div>\n",
       " <div class=\"sign-in-container result-tab\"></div>\n",
       " <div class=\"notes-container result-tab\"></div>\n",
       " </div>\n",
       " </div>,\n",
       " <div class=\"jobsearch-SerpJobCard unifiedRow row result\" data-ci=\"358719331\" data-empn=\"3207511007622310\" data-jk=\"a57b98252c9dfccc\" id=\"pj_a57b98252c9dfccc\">\n",
       " <style>\n",
       " .jobcard_logo{margin:6px 0}.jobcard_logo img{width:auto;max-width:80px;max-height:30px}.jasxrefreshcombotst .jobcard_logo img{max-height:2rem;max-width:100%}\n",
       " </style>\n",
       " <h2 class=\"title\">\n",
       " <a class=\"jobtitle turnstileLink\" data-tn-element=\"jobTitle\" href=\"/pagead/clk?mo=r&amp;ad=-6NYlbfkN0BTu_04gIP85a8jjeopef22HTkI3yiIcmBkczFyi_z4NPlsRuysp0ZWW2SGN_gvJcJtgw4Kvcc2UPWF2Lf2Hsb3upH3Z3bIVr6YiY3ZLvKCIEOYmaMyDZ1_quhjvFxal8SIOGouVSh5Ft0y-GBeNhlLCevIBie5yvrn9falOrZLX5AI5SatpepXRhOwVFT8DIIlcuvqT6mTADh_wMKLOTkLl5JekUzAgOl9c53elNd9XHSHXhclkMVpChW_MkPp09u_Uoa5eVdBTPrv6w1164K9ex2wvY-JoZYSMIOLVdatMTIwawR3eWR2_frj2uicglEzJlTHTNZP0nIUUbowIpkan7nDBnGT3GnurNvsvuUMJa3ANzkfsAPPNzewRYLB3uE1PK2jk16z89-GrSuRs4Wl_Bp3uWXB4KorJYlQr4uiJiR7gct6dNVY&amp;p=3&amp;fvj=1&amp;vjs=3\" id=\"sja3\" onclick=\"setRefineByCookie([]); sjoc('sja3', 1); convCtr('SJ'); rclk(this,jobmap[3],true,1);\" onmousedown=\"sjomd('sja3'); clk('sja3'); rclk(this,jobmap[3],1);\" rel=\"noopener nofollow\" target=\"_blank\" title=\"SEN Data Quality Officer\">\n",
       " SEN <b>Data</b> Quality Officer</a>\n",
       " <span class=\"new\">new</span></h2>\n",
       " <div class=\"sjcl\">\n",
       " <div>\n",
       " <span class=\"company\">\n",
       " Spencer Clarke Group</span>\n",
       " </div>\n",
       " <div class=\"recJobLoc\" data-rc-loc=\"Lambeth\" id=\"recJobLoc_a57b98252c9dfccc\" style=\"display: none\"></div>\n",
       " <div class=\"location accessible-contrast-color-location\">Lambeth</div>\n",
       " <span class=\"remote-bullet\">•</span>\n",
       " <span class=\"remote\">Temporarily remote</span>\n",
       " </div>\n",
       " <div class=\"salarySnippet salarySnippetDemphasizeholisticSalary\">\n",
       " <span class=\"salary no-wrap\">\n",
       " <span class=\"salaryText\">\n",
       " £18 - £23 an hour</span>\n",
       " </span>\n",
       " </div>\n",
       " <table class=\"jobCardShelfContainer\" role=\"presentation\"><tr class=\"jobCardShelf\"><td class=\"jobCardShelfItem indeedApply\"><span class=\"jobCardShelfIcon\"><svg fill=\"none\" height=\"16\" viewbox=\"0 0 20 20\" width=\"16\"><rect fill=\"#FF5A1F\" height=\"20\" rx=\"10\" width=\"20\"></rect><path clip-rule=\"evenodd\" d=\"M15.3125 4.0625L10.8125 15.3125L7.99999 11.375L15.3125 4.0625ZM7.604 12.7576L6.875 15.3125L8.567 14.1054L7.604 12.7576ZM7.20463 10.5796L12.419 5.36525L4.0625 9.125L6.9875 10.7968L7.20463 10.5796Z\" fill=\"white\" fill-rule=\"evenodd\"></path></svg></span><span class=\"iaLabel iaIconActive\">Easily apply to this job</span></td></tr></table><div class=\"summary\">\n",
       " <ul style=\"list-style-type:circle;margin-top: 0px;margin-bottom: 0px;padding-left:20px;\">\n",
       " <li style=\"margin-bottom:0px;\">Ensure that all SEN <b>data</b> is accurately recorded on Mosaic any other centrally used databases.</li>\n",
       " <li>To make statutory returns as required to the DfE and similar…</li>\n",
       " </ul></div>\n",
       " <div class=\"jobsearch-SerpJobCard-footer\">\n",
       " <div class=\"jobsearch-SerpJobCard-footerActions\">\n",
       " <div class=\"result-link-bar-container\">\n",
       " <div class=\"result-link-bar\"><span class=\"date\">5 days ago</span><span class=\"tt_set\" id=\"tt_set_3\"><span class=\"result-link-bar-separator\">·</span><a class=\"sl resultLink save-job-link\" href=\"#\" id=\"sj_a57b98252c9dfccc\" onclick=\"changeJobState('a57b98252c9dfccc', 'save', 'linkbar', true, ''); return false;\" title=\"Save this job to my.indeed\">Save job</a></span><div class=\"edit_note_content\" id=\"editsaved2_a57b98252c9dfccc\" style=\"display:none;\"></div><script>if (!window['sj_result_a57b98252c9dfccc']) {window['sj_result_a57b98252c9dfccc'] = {};}window['sj_result_a57b98252c9dfccc']['showSource'] = false; window['sj_result_a57b98252c9dfccc']['source'] = \"Indeed\"; window['sj_result_a57b98252c9dfccc']['loggedIn'] = false; window['sj_result_a57b98252c9dfccc']['showMyJobsLinks'] = false;window['sj_result_a57b98252c9dfccc']['undoAction'] = \"unsave\";window['sj_result_a57b98252c9dfccc']['relativeJobAge'] = \"5 days ago\";window['sj_result_a57b98252c9dfccc']['jobKey'] = \"a57b98252c9dfccc\"; window['sj_result_a57b98252c9dfccc']['myIndeedAvailable'] = true; window['sj_result_a57b98252c9dfccc']['showMoreActionsLink'] = window['sj_result_a57b98252c9dfccc']['showMoreActionsLink'] || false; window['sj_result_a57b98252c9dfccc']['resultNumber'] = 3; window['sj_result_a57b98252c9dfccc']['jobStateChangedToSaved'] = false; window['sj_result_a57b98252c9dfccc']['searchState'] = \"q=data&amp;\"; window['sj_result_a57b98252c9dfccc']['basicPermaLink'] = \"https://www.indeed.co.uk\"; window['sj_result_a57b98252c9dfccc']['saveJobFailed'] = false; window['sj_result_a57b98252c9dfccc']['removeJobFailed'] = false; window['sj_result_a57b98252c9dfccc']['requestPending'] = false; window['sj_result_a57b98252c9dfccc']['notesEnabled'] = false; window['sj_result_a57b98252c9dfccc']['currentPage'] = \"serp\"; window['sj_result_a57b98252c9dfccc']['sponsored'] = true;window['sj_result_a57b98252c9dfccc']['reportJobButtonEnabled'] = false; window['sj_result_a57b98252c9dfccc']['showMyJobsHired'] = false; window['sj_result_a57b98252c9dfccc']['showSaveForSponsored'] = true; window['sj_result_a57b98252c9dfccc']['showJobAge'] = true; window['sj_result_a57b98252c9dfccc']['showHolisticCard'] = true; window['sj_result_a57b98252c9dfccc']['showDislike'] = false; window['sj_result_a57b98252c9dfccc']['showKebab'] = false; window['sj_result_a57b98252c9dfccc']['showReport'] = false;</script></div></div>\n",
       " </div>\n",
       " </div>\n",
       " <div class=\"tab-container\">\n",
       " <div class=\"sign-in-container result-tab\"></div>\n",
       " <div class=\"tellafriend-container result-tab email_job_content\"></div>\n",
       " </div>\n",
       " </div>,\n",
       " <div class=\"jobsearch-SerpJobCard unifiedRow row result\" data-jk=\"e2585d744e147826\" data-tn-component=\"organicJob\" id=\"p_e2585d744e147826\">\n",
       " <h2 class=\"title\">\n",
       " <a class=\"jobtitle turnstileLink\" data-tn-element=\"jobTitle\" href=\"/rc/clk?jk=e2585d744e147826&amp;fccid=53baf69e3b432e03&amp;vjs=3\" id=\"jl_e2585d744e147826\" onclick=\"setRefineByCookie([]); return rclk(this,jobmap[4],true,1);\" onmousedown=\"return rclk(this,jobmap[4],1);\" rel=\"noopener nofollow\" target=\"_blank\" title=\"Data Analyst\">\n",
       " <b>Data</b> Analyst</a>\n",
       " <span class=\"new\">new</span></h2>\n",
       " <div class=\"sjcl\">\n",
       " <div>\n",
       " <span class=\"company\">\n",
       " Aula Education</span>\n",
       " </div>\n",
       " <div class=\"recJobLoc\" data-rc-loc=\"Home Based\" id=\"recJobLoc_e2585d744e147826\" style=\"display: none\"></div>\n",
       " <span class=\"location accessible-contrast-color-location\">Home Based</span>\n",
       " </div>\n",
       " <div class=\"salarySnippet salarySnippetDemphasizeholisticSalary\">\n",
       " <span class=\"salary no-wrap\">\n",
       " <span class=\"salaryText\">\n",
       " £300 - £400 a day</span>\n",
       " </span>\n",
       " </div>\n",
       " <div class=\"summary\">\n",
       " <ul style=\"list-style-type:circle;margin-top: 0px;margin-bottom: 0px;padding-left:20px;\">\n",
       " <li style=\"margin-bottom:0px;\">Work with <b>Data</b> Lead to get <b>data</b> properly ingested into <b>data</b> warehouse.</li>\n",
       " <li style=\"margin-bottom:0px;\">Reasonably solid <b>data</b> ingestion processes.</li>\n",
       " <li>Ensure 100 % <b>data</b> accuracy and consistency.</li>\n",
       " </ul></div>\n",
       " <div class=\"jobsearch-SerpJobCard-footer\">\n",
       " <div class=\"jobsearch-SerpJobCard-footerActions\">\n",
       " <div class=\"result-link-bar-container\">\n",
       " <div class=\"result-link-bar\"><span class=\"date\">6 days ago</span><span class=\"tt_set\" id=\"tt_set_4\"><span class=\"result-link-bar-separator\">·</span><a class=\"sl resultLink save-job-link\" href=\"#\" id=\"sj_e2585d744e147826\" onclick=\"changeJobState('e2585d744e147826', 'save', 'linkbar', false, ''); return false;\" title=\"Save this job to my.indeed\">Save job</a><span class=\"result-link-bar-separator\">·</span><button aria-expanded=\"false\" class=\"sl resultLink more-link\" id=\"tog_4\" onclick=\"toggleMoreLinks('e2585d744e147826', '4'); return false;\">More...</button></span><div class=\"edit_note_content\" id=\"editsaved2_e2585d744e147826\" style=\"display:none;\"></div><script>if (!window['result_e2585d744e147826']) {window['result_e2585d744e147826'] = {};}window['result_e2585d744e147826']['showSource'] = false; window['result_e2585d744e147826']['source'] = \"Aula Education\"; window['result_e2585d744e147826']['loggedIn'] = false; window['result_e2585d744e147826']['showMyJobsLinks'] = false;window['result_e2585d744e147826']['undoAction'] = \"unsave\";window['result_e2585d744e147826']['relativeJobAge'] = \"6 days ago\";window['result_e2585d744e147826']['jobKey'] = \"e2585d744e147826\"; window['result_e2585d744e147826']['myIndeedAvailable'] = true; window['result_e2585d744e147826']['showMoreActionsLink'] = window['result_e2585d744e147826']['showMoreActionsLink'] || true; window['result_e2585d744e147826']['resultNumber'] = 4; window['result_e2585d744e147826']['jobStateChangedToSaved'] = false; window['result_e2585d744e147826']['searchState'] = \"q=data&amp;\"; window['result_e2585d744e147826']['basicPermaLink'] = \"https://www.indeed.co.uk\"; window['result_e2585d744e147826']['saveJobFailed'] = false; window['result_e2585d744e147826']['removeJobFailed'] = false; window['result_e2585d744e147826']['requestPending'] = false; window['result_e2585d744e147826']['notesEnabled'] = true; window['result_e2585d744e147826']['currentPage'] = \"serp\"; window['result_e2585d744e147826']['sponsored'] = false;window['result_e2585d744e147826']['reportJobButtonEnabled'] = false; window['result_e2585d744e147826']['showMyJobsHired'] = false; window['result_e2585d744e147826']['showSaveForSponsored'] = false; window['result_e2585d744e147826']['showJobAge'] = true; window['result_e2585d744e147826']['showHolisticCard'] = true; window['result_e2585d744e147826']['showDislike'] = false; window['result_e2585d744e147826']['showKebab'] = false; window['result_e2585d744e147826']['showReport'] = false;</script></div></div>\n",
       " </div>\n",
       " </div>\n",
       " <div class=\"tab-container\">\n",
       " <div class=\"more-links-container result-tab\" id=\"tt_display_1\" style=\"display:none;\"><div class=\"more_actions\" id=\"more_1\"><ul><li><span class=\"mat\">View all <a href=\"/Aula-Education-jobs\">Aula Education jobs</a> - <a href=\"/jobs-in-Home-Based\">Home Based jobs</a></span></li><li><span class=\"mat\">Salary Search: <a href=\"/salaries/data-analyst-Salaries,-GB\" onmousedown=\"this.href = appendParamsOnce(this.href, '?campaignid=serp-more&amp;fromjk=e2585d744e147826&amp;from=serp-more');\">Data Analyst salaries in Home Based</a></span></li></ul></div><a class=\"close-link closeLink\" href=\"#\" onclick=\"toggleMoreLinks('e2585d744e147826'); return false;\" title=\"Close\"></a></div><div class=\"dya-container result-tab\"></div>\n",
       " <div class=\"tellafriend-container result-tab email_job_content\"></div>\n",
       " <div class=\"sign-in-container result-tab\"></div>\n",
       " <div class=\"notes-container result-tab\"></div>\n",
       " </div>\n",
       " </div>,\n",
       " <div class=\"jobsearch-SerpJobCard unifiedRow row result\" data-jk=\"019f634e54e06054\" data-tn-component=\"organicJob\" id=\"p_019f634e54e06054\">\n",
       " <h2 class=\"title\">\n",
       " <a class=\"jobtitle turnstileLink\" data-tn-element=\"jobTitle\" href=\"/rc/clk?jk=019f634e54e06054&amp;fccid=52c4a2d8febc5022&amp;vjs=3\" id=\"jl_019f634e54e06054\" onclick=\"setRefineByCookie([]); return rclk(this,jobmap[5],true,1);\" onmousedown=\"return rclk(this,jobmap[5],1);\" rel=\"noopener nofollow\" target=\"_blank\" title=\"Data Entry Clerks\">\n",
       " <b>Data</b> Entry Clerks</a>\n",
       " </h2>\n",
       " <div class=\"sjcl\">\n",
       " <div>\n",
       " <span class=\"company\">\n",
       " DirectTemping</span>\n",
       " </div>\n",
       " <div class=\"recJobLoc\" data-rc-loc=\"Borough Station\" id=\"recJobLoc_019f634e54e06054\" style=\"display: none\"></div>\n",
       " <span class=\"location accessible-contrast-color-location\">Borough Station</span>\n",
       " </div>\n",
       " <div class=\"salarySnippet salarySnippetDemphasizeholisticSalary\">\n",
       " <span class=\"salary no-wrap\">\n",
       " <span class=\"salaryText\">\n",
       " £10.75 an hour</span>\n",
       " </span>\n",
       " </div>\n",
       " <div class=\"summary\">\n",
       " <ul style=\"list-style-type:circle;margin-top: 0px;margin-bottom: 0px;padding-left:20px;\">\n",
       " <li style=\"margin-bottom:0px;\">Ability to transfer <b>data</b> from input documents.</li>\n",
       " <li>Fast and accurate <b>data</b> input speeds (min 6000 keystrokes per hour).</li>\n",
       " </ul></div>\n",
       " <div class=\"jobsearch-SerpJobCard-footer\">\n",
       " <div class=\"jobsearch-SerpJobCard-footerActions\">\n",
       " <div class=\"result-link-bar-container\">\n",
       " <div class=\"result-link-bar\"><span class=\"date\">14 days ago</span><span class=\"tt_set\" id=\"tt_set_5\"><span class=\"result-link-bar-separator\">·</span><a class=\"sl resultLink save-job-link\" href=\"#\" id=\"sj_019f634e54e06054\" onclick=\"changeJobState('019f634e54e06054', 'save', 'linkbar', false, ''); return false;\" title=\"Save this job to my.indeed\">Save job</a><span class=\"result-link-bar-separator\">·</span><button aria-expanded=\"false\" class=\"sl resultLink more-link\" id=\"tog_5\" onclick=\"toggleMoreLinks('019f634e54e06054', '5'); return false;\">More...</button></span><div class=\"edit_note_content\" id=\"editsaved2_019f634e54e06054\" style=\"display:none;\"></div><script>if (!window['result_019f634e54e06054']) {window['result_019f634e54e06054'] = {};}window['result_019f634e54e06054']['showSource'] = false; window['result_019f634e54e06054']['source'] = \"DirectTemping\"; window['result_019f634e54e06054']['loggedIn'] = false; window['result_019f634e54e06054']['showMyJobsLinks'] = false;window['result_019f634e54e06054']['undoAction'] = \"unsave\";window['result_019f634e54e06054']['relativeJobAge'] = \"14 days ago\";window['result_019f634e54e06054']['jobKey'] = \"019f634e54e06054\"; window['result_019f634e54e06054']['myIndeedAvailable'] = true; window['result_019f634e54e06054']['showMoreActionsLink'] = window['result_019f634e54e06054']['showMoreActionsLink'] || true; window['result_019f634e54e06054']['resultNumber'] = 5; window['result_019f634e54e06054']['jobStateChangedToSaved'] = false; window['result_019f634e54e06054']['searchState'] = \"q=data&amp;\"; window['result_019f634e54e06054']['basicPermaLink'] = \"https://www.indeed.co.uk\"; window['result_019f634e54e06054']['saveJobFailed'] = false; window['result_019f634e54e06054']['removeJobFailed'] = false; window['result_019f634e54e06054']['requestPending'] = false; window['result_019f634e54e06054']['notesEnabled'] = true; window['result_019f634e54e06054']['currentPage'] = \"serp\"; window['result_019f634e54e06054']['sponsored'] = false;window['result_019f634e54e06054']['reportJobButtonEnabled'] = false; window['result_019f634e54e06054']['showMyJobsHired'] = false; window['result_019f634e54e06054']['showSaveForSponsored'] = false; window['result_019f634e54e06054']['showJobAge'] = true; window['result_019f634e54e06054']['showHolisticCard'] = true; window['result_019f634e54e06054']['showDislike'] = false; window['result_019f634e54e06054']['showKebab'] = false; window['result_019f634e54e06054']['showReport'] = false;</script></div></div>\n",
       " </div>\n",
       " </div>\n",
       " <div class=\"tab-container\">\n",
       " <div class=\"more-links-container result-tab\" id=\"tt_display_2\" style=\"display:none;\"><div class=\"more_actions\" id=\"more_2\"><ul><li><span class=\"mat\">View all <a href=\"/Directtemping-jobs\">DirectTemping jobs</a> - <a href=\"/jobs-in-Borough-Station\">Borough Station jobs</a></span></li><li><span class=\"mat\">Salary Search: <a href=\"/salaries/data-entry-clerk-Salaries,-England\" onmousedown=\"this.href = appendParamsOnce(this.href, '?campaignid=serp-more&amp;fromjk=019f634e54e06054&amp;from=serp-more');\">Data Entry Clerk salaries in Borough Station</a></span></li></ul></div><a class=\"close-link closeLink\" href=\"#\" onclick=\"toggleMoreLinks('019f634e54e06054'); return false;\" title=\"Close\"></a></div><div class=\"dya-container result-tab\"></div>\n",
       " <div class=\"tellafriend-container result-tab email_job_content\"></div>\n",
       " <div class=\"sign-in-container result-tab\"></div>\n",
       " <div class=\"notes-container result-tab\"></div>\n",
       " </div>\n",
       " </div>,\n",
       " <div class=\"jobsearch-SerpJobCard unifiedRow row result\" data-jk=\"1f826dc3e25f5385\" data-tn-component=\"organicJob\" id=\"p_1f826dc3e25f5385\">\n",
       " <h2 class=\"title\">\n",
       " <a class=\"jobtitle turnstileLink\" data-tn-element=\"jobTitle\" href=\"/rc/clk?jk=1f826dc3e25f5385&amp;fccid=1845b845b5c5b66e&amp;vjs=3\" id=\"jl_1f826dc3e25f5385\" onclick=\"setRefineByCookie([]); return rclk(this,jobmap[6],true,1);\" onmousedown=\"return rclk(this,jobmap[6],1);\" rel=\"noopener nofollow\" target=\"_blank\" title=\"PUBLIC HEALTH DATA OFFICER\">\n",
       " PUBLIC HEALTH <b>DATA</b> OFFICER</a>\n",
       " </h2>\n",
       " <div class=\"sjcl\">\n",
       " <div>\n",
       " <span class=\"company\">\n",
       " Intec Select</span>\n",
       " </div>\n",
       " <div class=\"recJobLoc\" data-rc-loc=\"Morden\" id=\"recJobLoc_1f826dc3e25f5385\" style=\"display: none\"></div>\n",
       " <span class=\"location accessible-contrast-color-location\">Morden</span>\n",
       " <span class=\"remote-bullet\">•</span>\n",
       " <span class=\"remote\">Temporarily remote</span>\n",
       " </div>\n",
       " <div class=\"salarySnippet salarySnippetDemphasizeholisticSalary\">\n",
       " <span class=\"salary no-wrap\">\n",
       " <span class=\"salaryText\">\n",
       " £280 - £320 a week</span>\n",
       " </span>\n",
       " </div>\n",
       " <div class=\"summary\">\n",
       " <ul style=\"list-style-type:circle;margin-top: 0px;margin-bottom: 0px;padding-left:20px;\">\n",
       " <li style=\"margin-bottom:0px;\">Fluent in electronically accessing and using complex health related data.</li>\n",
       " <li>Lead analyst for all COVID 19 <b>data</b> including positive cases, deaths, test and trace…</li>\n",
       " </ul></div>\n",
       " <div class=\"jobsearch-SerpJobCard-footer\">\n",
       " <div class=\"jobsearch-SerpJobCard-footerActions\">\n",
       " <div class=\"result-link-bar-container\">\n",
       " <div class=\"result-link-bar\"><span class=\"date\">8 days ago</span><span class=\"tt_set\" id=\"tt_set_6\"><span class=\"result-link-bar-separator\">·</span><a class=\"sl resultLink save-job-link\" href=\"#\" id=\"sj_1f826dc3e25f5385\" onclick=\"changeJobState('1f826dc3e25f5385', 'save', 'linkbar', false, ''); return false;\" title=\"Save this job to my.indeed\">Save job</a><span class=\"result-link-bar-separator\">·</span><button aria-expanded=\"false\" class=\"sl resultLink more-link\" id=\"tog_6\" onclick=\"toggleMoreLinks('1f826dc3e25f5385', '6'); return false;\">More...</button></span><div class=\"edit_note_content\" id=\"editsaved2_1f826dc3e25f5385\" style=\"display:none;\"></div><script>if (!window['result_1f826dc3e25f5385']) {window['result_1f826dc3e25f5385'] = {};}window['result_1f826dc3e25f5385']['showSource'] = false; window['result_1f826dc3e25f5385']['source'] = \"Intec Select\"; window['result_1f826dc3e25f5385']['loggedIn'] = false; window['result_1f826dc3e25f5385']['showMyJobsLinks'] = false;window['result_1f826dc3e25f5385']['undoAction'] = \"unsave\";window['result_1f826dc3e25f5385']['relativeJobAge'] = \"8 days ago\";window['result_1f826dc3e25f5385']['jobKey'] = \"1f826dc3e25f5385\"; window['result_1f826dc3e25f5385']['myIndeedAvailable'] = true; window['result_1f826dc3e25f5385']['showMoreActionsLink'] = window['result_1f826dc3e25f5385']['showMoreActionsLink'] || true; window['result_1f826dc3e25f5385']['resultNumber'] = 6; window['result_1f826dc3e25f5385']['jobStateChangedToSaved'] = false; window['result_1f826dc3e25f5385']['searchState'] = \"q=data&amp;\"; window['result_1f826dc3e25f5385']['basicPermaLink'] = \"https://www.indeed.co.uk\"; window['result_1f826dc3e25f5385']['saveJobFailed'] = false; window['result_1f826dc3e25f5385']['removeJobFailed'] = false; window['result_1f826dc3e25f5385']['requestPending'] = false; window['result_1f826dc3e25f5385']['notesEnabled'] = true; window['result_1f826dc3e25f5385']['currentPage'] = \"serp\"; window['result_1f826dc3e25f5385']['sponsored'] = false;window['result_1f826dc3e25f5385']['reportJobButtonEnabled'] = false; window['result_1f826dc3e25f5385']['showMyJobsHired'] = false; window['result_1f826dc3e25f5385']['showSaveForSponsored'] = false; window['result_1f826dc3e25f5385']['showJobAge'] = true; window['result_1f826dc3e25f5385']['showHolisticCard'] = true; window['result_1f826dc3e25f5385']['showDislike'] = false; window['result_1f826dc3e25f5385']['showKebab'] = false; window['result_1f826dc3e25f5385']['showReport'] = false;</script></div></div>\n",
       " </div>\n",
       " </div>\n",
       " <div class=\"tab-container\">\n",
       " <div class=\"more-links-container result-tab\" id=\"tt_display_3\" style=\"display:none;\"><div class=\"more_actions\" id=\"more_3\"><ul><li><span class=\"mat\">View all <a href=\"/Intec-Select-jobs\">Intec Select jobs</a> - <a href=\"/jobs-in-Morden\">Morden jobs</a></span></li><li><span class=\"mat\">Salary Search: <a href=\"/salaries/public-health-nurse-Salaries,-Morden-ENG\" onmousedown=\"this.href = appendParamsOnce(this.href, '?campaignid=serp-more&amp;fromjk=1f826dc3e25f5385&amp;from=serp-more');\">Public Health Nurse salaries in Morden</a></span></li></ul></div><a class=\"close-link closeLink\" href=\"#\" onclick=\"toggleMoreLinks('1f826dc3e25f5385'); return false;\" title=\"Close\"></a></div><div class=\"dya-container result-tab\"></div>\n",
       " <div class=\"tellafriend-container result-tab email_job_content\"></div>\n",
       " <div class=\"sign-in-container result-tab\"></div>\n",
       " <div class=\"notes-container result-tab\"></div>\n",
       " </div>\n",
       " </div>,\n",
       " <div class=\"jobsearch-SerpJobCard unifiedRow row result\" data-jk=\"e9ff45c600527d3f\" data-tn-component=\"organicJob\" id=\"p_e9ff45c600527d3f\">\n",
       " <h2 class=\"title\">\n",
       " <a class=\"jobtitle turnstileLink\" data-tn-element=\"jobTitle\" href=\"/rc/clk?jk=e9ff45c600527d3f&amp;fccid=8f1f25ba07e97f60&amp;vjs=3\" id=\"jl_e9ff45c600527d3f\" onclick=\"setRefineByCookie([]); return rclk(this,jobmap[7],true,0);\" onmousedown=\"return rclk(this,jobmap[7],0);\" rel=\"noopener nofollow\" target=\"_blank\" title=\"Data Scientist Intern\">\n",
       " <b>Data</b> Scientist Intern</a>\n",
       " </h2>\n",
       " <div class=\"sjcl\">\n",
       " <div>\n",
       " <span class=\"company\">\n",
       " Buzz Radar</span>\n",
       " </div>\n",
       " <div class=\"recJobLoc\" data-rc-loc=\"London\" id=\"recJobLoc_e9ff45c600527d3f\" style=\"display: none\"></div>\n",
       " <span class=\"location accessible-contrast-color-location\">London</span>\n",
       " </div>\n",
       " <div class=\"summary\">\n",
       " <ul style=\"list-style-type:circle;margin-top: 0px;margin-bottom: 0px;padding-left:20px;\">\n",
       " <li>You’ll help support the Buzz Radar product roadmap by helping our <b>data</b> analysts research new <b>data</b> sources and latest analysis techniques.</li>\n",
       " </ul></div>\n",
       " <div class=\"jobsearch-SerpJobCard-footer\">\n",
       " <div class=\"jobsearch-SerpJobCard-footerActions\">\n",
       " <div class=\"result-link-bar-container\">\n",
       " <div class=\"result-link-bar\"><span class=\"date\">27 days ago</span><span class=\"tt_set\" id=\"tt_set_7\"><span class=\"result-link-bar-separator\">·</span><a class=\"sl resultLink save-job-link\" href=\"#\" id=\"sj_e9ff45c600527d3f\" onclick=\"changeJobState('e9ff45c600527d3f', 'save', 'linkbar', false, ''); return false;\" title=\"Save this job to my.indeed\">Save job</a><span class=\"result-link-bar-separator\">·</span><button aria-expanded=\"false\" class=\"sl resultLink more-link\" id=\"tog_7\" onclick=\"toggleMoreLinks('e9ff45c600527d3f', '7'); return false;\">More...</button></span><div class=\"edit_note_content\" id=\"editsaved2_e9ff45c600527d3f\" style=\"display:none;\"></div><script>if (!window['result_e9ff45c600527d3f']) {window['result_e9ff45c600527d3f'] = {};}window['result_e9ff45c600527d3f']['showSource'] = false; window['result_e9ff45c600527d3f']['source'] = \"Buzz Radar\"; window['result_e9ff45c600527d3f']['loggedIn'] = false; window['result_e9ff45c600527d3f']['showMyJobsLinks'] = false;window['result_e9ff45c600527d3f']['undoAction'] = \"unsave\";window['result_e9ff45c600527d3f']['relativeJobAge'] = \"27 days ago\";window['result_e9ff45c600527d3f']['jobKey'] = \"e9ff45c600527d3f\"; window['result_e9ff45c600527d3f']['myIndeedAvailable'] = true; window['result_e9ff45c600527d3f']['showMoreActionsLink'] = window['result_e9ff45c600527d3f']['showMoreActionsLink'] || true; window['result_e9ff45c600527d3f']['resultNumber'] = 7; window['result_e9ff45c600527d3f']['jobStateChangedToSaved'] = false; window['result_e9ff45c600527d3f']['searchState'] = \"q=data&amp;\"; window['result_e9ff45c600527d3f']['basicPermaLink'] = \"https://www.indeed.co.uk\"; window['result_e9ff45c600527d3f']['saveJobFailed'] = false; window['result_e9ff45c600527d3f']['removeJobFailed'] = false; window['result_e9ff45c600527d3f']['requestPending'] = false; window['result_e9ff45c600527d3f']['notesEnabled'] = true; window['result_e9ff45c600527d3f']['currentPage'] = \"serp\"; window['result_e9ff45c600527d3f']['sponsored'] = false;window['result_e9ff45c600527d3f']['reportJobButtonEnabled'] = false; window['result_e9ff45c600527d3f']['showMyJobsHired'] = false; window['result_e9ff45c600527d3f']['showSaveForSponsored'] = false; window['result_e9ff45c600527d3f']['showJobAge'] = true; window['result_e9ff45c600527d3f']['showHolisticCard'] = true; window['result_e9ff45c600527d3f']['showDislike'] = false; window['result_e9ff45c600527d3f']['showKebab'] = false; window['result_e9ff45c600527d3f']['showReport'] = false;</script></div></div>\n",
       " </div>\n",
       " </div>\n",
       " <div class=\"tab-container\">\n",
       " <div class=\"more-links-container result-tab\" id=\"tt_display_4\" style=\"display:none;\"><div class=\"more_actions\" id=\"more_4\"><ul><li><span class=\"mat\">View all <a href=\"/Buzz-Radar-jobs\">Buzz Radar jobs</a> - <a href=\"/jobs-in-London\">London jobs</a></span></li><li><span class=\"mat\">Salary Search: <a href=\"/salaries/data-scientist-Salaries,-London-ENG\" onmousedown=\"this.href = appendParamsOnce(this.href, '?campaignid=serp-more&amp;fromjk=e9ff45c600527d3f&amp;from=serp-more');\">Data Scientist salaries in London</a></span></li></ul></div><a class=\"close-link closeLink\" href=\"#\" onclick=\"toggleMoreLinks('e9ff45c600527d3f'); return false;\" title=\"Close\"></a></div><div class=\"dya-container result-tab\"></div>\n",
       " <div class=\"tellafriend-container result-tab email_job_content\"></div>\n",
       " <div class=\"sign-in-container result-tab\"></div>\n",
       " <div class=\"notes-container result-tab\"></div>\n",
       " </div>\n",
       " </div>,\n",
       " <div class=\"jobsearch-SerpJobCard unifiedRow row result\" data-jk=\"70eadca5ba6195c5\" data-tn-component=\"organicJob\" id=\"p_70eadca5ba6195c5\">\n",
       " <h2 class=\"title\">\n",
       " <a class=\"jobtitle turnstileLink\" data-tn-element=\"jobTitle\" href=\"/rc/clk?jk=70eadca5ba6195c5&amp;fccid=55fccadc783ae54d&amp;vjs=3\" id=\"jl_70eadca5ba6195c5\" onclick=\"setRefineByCookie([]); return rclk(this,jobmap[8],true,0);\" onmousedown=\"return rclk(this,jobmap[8],0);\" rel=\"noopener nofollow\" target=\"_blank\" title=\"DATA ANALYST\">\n",
       " <b>DATA</b> ANALYST</a>\n",
       " <span class=\"new\">new</span></h2>\n",
       " <div class=\"sjcl\">\n",
       " <div>\n",
       " <span class=\"company\">\n",
       " <a class=\"turnstileLink\" data-tn-element=\"companyName\" href=\"/cmp/Dr-Martens\" onmousedown=\"this.href = appendParamsOnce(this.href, 'from=SERP&amp;campaignid=serp-linkcompanyname&amp;fromjk=70eadca5ba6195c5&amp;jcid=55fccadc783ae54d')\" rel=\"noopener\" target=\"_blank\">\n",
       " Dr Martens</a></span>\n",
       " <span class=\"ratingsDisplay\">\n",
       " <a class=\"ratingNumber\" data-tn-variant=\"cmplinktst2\" href=\"/cmp/Dr-Martens/reviews\" onmousedown=\"this.href = appendParamsOnce(this.href, '?campaignid=cmplinktst2&amp;from=SERP&amp;jt=DATA+ANALYST&amp;fromjk=70eadca5ba6195c5&amp;jcid=55fccadc783ae54d');\" rel=\"noopener\" target=\"_blank\" title=\"Dr Martens reviews\">\n",
       " <span class=\"ratingsContent\">\n",
       " 4.1<svg class=\"starIcon\" height=\"12px\" role=\"img\" width=\"12px\">\n",
       " <g>\n",
       " <path d=\"M 12.00,4.34 C 12.00,4.34 7.69,3.97 7.69,3.97 7.69,3.97 6.00,0.00 6.00,0.00 6.00,0.00 4.31,3.98 4.31,3.98 4.31,3.98 0.00,4.34 0.00,4.34 0.00,4.34 3.28,7.18 3.28,7.18 3.28,7.18 2.29,11.40 2.29,11.40 2.29,11.40 6.00,9.16 6.00,9.16 6.00,9.16 9.71,11.40 9.71,11.40 9.71,11.40 8.73,7.18 8.73,7.18 8.73,7.18 12.00,4.34 12.00,4.34 Z\" style=\"fill: #FFB103\"></path>\n",
       " </g>\n",
       " </svg>\n",
       " </span>\n",
       " </a>\n",
       " </span>\n",
       " </div>\n",
       " <div class=\"recJobLoc\" data-rc-loc=\"London\" id=\"recJobLoc_70eadca5ba6195c5\" style=\"display: none\"></div>\n",
       " <span class=\"location accessible-contrast-color-location\">London</span>\n",
       " </div>\n",
       " <div class=\"summary\">\n",
       " <ul style=\"list-style-type:circle;margin-top: 0px;margin-bottom: 0px;padding-left:20px;\">\n",
       " <li>Collaborate with the experts across the relevant IT teams to understand <b>data</b> flows and the root cause of <b>data</b> issues to reduce the frequency of inconsistent…</li>\n",
       " </ul></div>\n",
       " <div class=\"jobsearch-SerpJobCard-footer\">\n",
       " <div class=\"jobsearch-SerpJobCard-footerActions\">\n",
       " <div class=\"result-link-bar-container\">\n",
       " <div class=\"result-link-bar\"><span class=\"date\">6 days ago</span><span class=\"tt_set\" id=\"tt_set_8\"><span class=\"result-link-bar-separator\">·</span><a class=\"sl resultLink save-job-link\" href=\"#\" id=\"sj_70eadca5ba6195c5\" onclick=\"changeJobState('70eadca5ba6195c5', 'save', 'linkbar', false, ''); return false;\" title=\"Save this job to my.indeed\">Save job</a><span class=\"result-link-bar-separator\">·</span><button aria-expanded=\"false\" class=\"sl resultLink more-link\" id=\"tog_8\" onclick=\"toggleMoreLinks('70eadca5ba6195c5', '8'); return false;\">More...</button></span><div class=\"edit_note_content\" id=\"editsaved2_70eadca5ba6195c5\" style=\"display:none;\"></div><script>if (!window['result_70eadca5ba6195c5']) {window['result_70eadca5ba6195c5'] = {};}window['result_70eadca5ba6195c5']['showSource'] = false; window['result_70eadca5ba6195c5']['source'] = \"Dr Martens\"; window['result_70eadca5ba6195c5']['loggedIn'] = false; window['result_70eadca5ba6195c5']['showMyJobsLinks'] = false;window['result_70eadca5ba6195c5']['undoAction'] = \"unsave\";window['result_70eadca5ba6195c5']['relativeJobAge'] = \"6 days ago\";window['result_70eadca5ba6195c5']['jobKey'] = \"70eadca5ba6195c5\"; window['result_70eadca5ba6195c5']['myIndeedAvailable'] = true; window['result_70eadca5ba6195c5']['showMoreActionsLink'] = window['result_70eadca5ba6195c5']['showMoreActionsLink'] || true; window['result_70eadca5ba6195c5']['resultNumber'] = 8; window['result_70eadca5ba6195c5']['jobStateChangedToSaved'] = false; window['result_70eadca5ba6195c5']['searchState'] = \"q=data&amp;\"; window['result_70eadca5ba6195c5']['basicPermaLink'] = \"https://www.indeed.co.uk\"; window['result_70eadca5ba6195c5']['saveJobFailed'] = false; window['result_70eadca5ba6195c5']['removeJobFailed'] = false; window['result_70eadca5ba6195c5']['requestPending'] = false; window['result_70eadca5ba6195c5']['notesEnabled'] = true; window['result_70eadca5ba6195c5']['currentPage'] = \"serp\"; window['result_70eadca5ba6195c5']['sponsored'] = false;window['result_70eadca5ba6195c5']['reportJobButtonEnabled'] = false; window['result_70eadca5ba6195c5']['showMyJobsHired'] = false; window['result_70eadca5ba6195c5']['showSaveForSponsored'] = false; window['result_70eadca5ba6195c5']['showJobAge'] = true; window['result_70eadca5ba6195c5']['showHolisticCard'] = true; window['result_70eadca5ba6195c5']['showDislike'] = false; window['result_70eadca5ba6195c5']['showKebab'] = false; window['result_70eadca5ba6195c5']['showReport'] = false;</script></div></div>\n",
       " </div>\n",
       " </div>\n",
       " <div class=\"tab-container\">\n",
       " <div class=\"more-links-container result-tab\" id=\"tt_display_5\" style=\"display:none;\"><div class=\"more_actions\" id=\"more_5\"><ul><li><span class=\"mat\">View all <a href=\"/Dr-Martens-jobs\">Dr Martens jobs</a> - <a href=\"/jobs-in-London\">London jobs</a></span></li><li><span class=\"mat\">Salary Search: <a href=\"/salaries/data-analyst-Salaries,-London-ENG\" onmousedown=\"this.href = appendParamsOnce(this.href, '?campaignid=serp-more&amp;fromjk=70eadca5ba6195c5&amp;from=serp-more');\">Data Analyst salaries in London</a></span></li><li><span class=\"mat\">Learn more about working at <a href=\"/cmp/Dr-Martens\" onmousedown=\"this.href = appendParamsOnce(this.href, '?fromjk=70eadca5ba6195c5&amp;from=serp-more&amp;campaignid=serp-more&amp;jcid=55fccadc783ae54d');\">Dr Martens</a></span></li><li><span class=\"mat\">See popular <a href=\"/cmp/Dr-Martens/faq\" onmousedown=\"this.href = appendParamsOnce(this.href, '?from=serp-more&amp;campaignid=serp-more&amp;fromjk=70eadca5ba6195c5&amp;jcid=55fccadc783ae54d');\">questions &amp; answers about Dr Martens</a></span></li></ul></div><a class=\"close-link closeLink\" href=\"#\" onclick=\"toggleMoreLinks('70eadca5ba6195c5'); return false;\" title=\"Close\"></a></div><div class=\"dya-container result-tab\"></div>\n",
       " <div class=\"tellafriend-container result-tab email_job_content\"></div>\n",
       " <div class=\"sign-in-container result-tab\"></div>\n",
       " <div class=\"notes-container result-tab\"></div>\n",
       " </div>\n",
       " </div>,\n",
       " <div class=\"jobsearch-SerpJobCard unifiedRow row result\" data-jk=\"dad655cf6d824369\" data-tn-component=\"organicJob\" id=\"p_dad655cf6d824369\">\n",
       " <h2 class=\"title\">\n",
       " <a class=\"jobtitle turnstileLink\" data-tn-element=\"jobTitle\" href=\"/rc/clk?jk=dad655cf6d824369&amp;fccid=1214cf0a42abe4eb&amp;vjs=3\" id=\"jl_dad655cf6d824369\" onclick=\"setRefineByCookie([]); return rclk(this,jobmap[9],true,1);\" onmousedown=\"return rclk(this,jobmap[9],1);\" rel=\"noopener nofollow\" target=\"_blank\" title=\"Part Time role Data &amp; Compliance Administrator\">\n",
       " Part Time role <b>Data</b> &amp; Compliance Administrator</a>\n",
       " </h2>\n",
       " <div class=\"sjcl\">\n",
       " <div>\n",
       " <span class=\"company\">\n",
       " <a class=\"turnstileLink\" data-tn-element=\"companyName\" href=\"/cmp/Capita-PLC\" onmousedown=\"this.href = appendParamsOnce(this.href, 'from=SERP&amp;campaignid=serp-linkcompanyname&amp;fromjk=dad655cf6d824369&amp;jcid=1214cf0a42abe4eb')\" rel=\"noopener\" target=\"_blank\">\n",
       " Capita Plc</a></span>\n",
       " <span class=\"ratingsDisplay\">\n",
       " <a class=\"ratingNumber\" data-tn-variant=\"cmplinktst2\" href=\"/cmp/Capita-PLC/reviews\" onmousedown=\"this.href = appendParamsOnce(this.href, '?campaignid=cmplinktst2&amp;from=SERP&amp;jt=Part+Time+role+Data+%26+Compliance+Administrator&amp;fromjk=dad655cf6d824369&amp;jcid=1214cf0a42abe4eb');\" rel=\"noopener\" target=\"_blank\" title=\"Capita PLC reviews\">\n",
       " <span class=\"ratingsContent\">\n",
       " 3.2<svg class=\"starIcon\" height=\"12px\" role=\"img\" width=\"12px\">\n",
       " <g>\n",
       " <path d=\"M 12.00,4.34 C 12.00,4.34 7.69,3.97 7.69,3.97 7.69,3.97 6.00,0.00 6.00,0.00 6.00,0.00 4.31,3.98 4.31,3.98 4.31,3.98 0.00,4.34 0.00,4.34 0.00,4.34 3.28,7.18 3.28,7.18 3.28,7.18 2.29,11.40 2.29,11.40 2.29,11.40 6.00,9.16 6.00,9.16 6.00,9.16 9.71,11.40 9.71,11.40 9.71,11.40 8.73,7.18 8.73,7.18 8.73,7.18 12.00,4.34 12.00,4.34 Z\" style=\"fill: #FFB103\"></path>\n",
       " </g>\n",
       " </svg>\n",
       " </span>\n",
       " </a>\n",
       " </span>\n",
       " </div>\n",
       " <div class=\"recJobLoc\" data-rc-loc=\"Chichester\" id=\"recJobLoc_dad655cf6d824369\" style=\"display: none\"></div>\n",
       " <span class=\"location accessible-contrast-color-location\">Chichester</span>\n",
       " </div>\n",
       " <div class=\"salarySnippet salarySnippetDemphasizeholisticSalary\">\n",
       " <span class=\"salary no-wrap\">\n",
       " <span class=\"salaryText\">\n",
       " £19,000 a year</span>\n",
       " </span>\n",
       " </div>\n",
       " <div class=\"summary\">\n",
       " <ul style=\"list-style-type:circle;margin-top: 0px;margin-bottom: 0px;padding-left:20px;\">\n",
       " <li>To communicate complex issues at all levels, to explain what reports and <b>data</b> mean in a way that can be understood by a variety of different audiences.</li>\n",
       " </ul></div>\n",
       " <div class=\"jobsearch-SerpJobCard-footer\">\n",
       " <div class=\"jobsearch-SerpJobCard-footerActions\">\n",
       " <div class=\"result-link-bar-container\">\n",
       " <div class=\"result-link-bar\"><span class=\"date\">10 days ago</span><span class=\"tt_set\" id=\"tt_set_9\"><span class=\"result-link-bar-separator\">·</span><a class=\"sl resultLink save-job-link\" href=\"#\" id=\"sj_dad655cf6d824369\" onclick=\"changeJobState('dad655cf6d824369', 'save', 'linkbar', false, ''); return false;\" title=\"Save this job to my.indeed\">Save job</a><span class=\"result-link-bar-separator\">·</span><button aria-expanded=\"false\" class=\"sl resultLink more-link\" id=\"tog_9\" onclick=\"toggleMoreLinks('dad655cf6d824369', '9'); return false;\">More...</button></span><div class=\"edit_note_content\" id=\"editsaved2_dad655cf6d824369\" style=\"display:none;\"></div><script>if (!window['result_dad655cf6d824369']) {window['result_dad655cf6d824369'] = {};}window['result_dad655cf6d824369']['showSource'] = false; window['result_dad655cf6d824369']['source'] = \"Capita plc\"; window['result_dad655cf6d824369']['loggedIn'] = false; window['result_dad655cf6d824369']['showMyJobsLinks'] = false;window['result_dad655cf6d824369']['undoAction'] = \"unsave\";window['result_dad655cf6d824369']['relativeJobAge'] = \"10 days ago\";window['result_dad655cf6d824369']['jobKey'] = \"dad655cf6d824369\"; window['result_dad655cf6d824369']['myIndeedAvailable'] = true; window['result_dad655cf6d824369']['showMoreActionsLink'] = window['result_dad655cf6d824369']['showMoreActionsLink'] || true; window['result_dad655cf6d824369']['resultNumber'] = 9; window['result_dad655cf6d824369']['jobStateChangedToSaved'] = false; window['result_dad655cf6d824369']['searchState'] = \"q=data&amp;\"; window['result_dad655cf6d824369']['basicPermaLink'] = \"https://www.indeed.co.uk\"; window['result_dad655cf6d824369']['saveJobFailed'] = false; window['result_dad655cf6d824369']['removeJobFailed'] = false; window['result_dad655cf6d824369']['requestPending'] = false; window['result_dad655cf6d824369']['notesEnabled'] = true; window['result_dad655cf6d824369']['currentPage'] = \"serp\"; window['result_dad655cf6d824369']['sponsored'] = false;window['result_dad655cf6d824369']['reportJobButtonEnabled'] = false; window['result_dad655cf6d824369']['showMyJobsHired'] = false; window['result_dad655cf6d824369']['showSaveForSponsored'] = false; window['result_dad655cf6d824369']['showJobAge'] = true; window['result_dad655cf6d824369']['showHolisticCard'] = true; window['result_dad655cf6d824369']['showDislike'] = false; window['result_dad655cf6d824369']['showKebab'] = false; window['result_dad655cf6d824369']['showReport'] = false;</script></div></div>\n",
       " </div>\n",
       " </div>\n",
       " <div class=\"tab-container\">\n",
       " <div class=\"more-links-container result-tab\" id=\"tt_display_6\" style=\"display:none;\"><div class=\"more_actions\" id=\"more_6\"><ul><li><span class=\"mat\">View all <a href=\"/Capita-PLC-jobs\">Capita Plc jobs</a> - <a href=\"/jobs-in-Chichester\">Chichester jobs</a></span></li><li><span class=\"mat\">Salary Search: <a href=\"/salaries/data-administrator-Salaries,-Chichester-ENG\" onmousedown=\"this.href = appendParamsOnce(this.href, '?campaignid=serp-more&amp;fromjk=dad655cf6d824369&amp;from=serp-more');\">Data Administrator salaries in Chichester</a></span></li><li><span class=\"mat\">Learn more about working at <a href=\"/cmp/Capita-PLC\" onmousedown=\"this.href = appendParamsOnce(this.href, '?fromjk=dad655cf6d824369&amp;from=serp-more&amp;campaignid=serp-more&amp;jcid=1214cf0a42abe4eb');\">Capita Plc</a></span></li><li><span class=\"mat\">See popular <a href=\"/cmp/Capita-PLC/faq\" onmousedown=\"this.href = appendParamsOnce(this.href, '?from=serp-more&amp;campaignid=serp-more&amp;fromjk=dad655cf6d824369&amp;jcid=1214cf0a42abe4eb');\">questions &amp; answers about Capita Plc</a></span></li></ul></div><a class=\"close-link closeLink\" href=\"#\" onclick=\"toggleMoreLinks('dad655cf6d824369'); return false;\" title=\"Close\"></a></div><div class=\"dya-container result-tab\"></div>\n",
       " <div class=\"tellafriend-container result-tab email_job_content\"></div>\n",
       " <div class=\"sign-in-container result-tab\"></div>\n",
       " <div class=\"notes-container result-tab\"></div>\n",
       " </div>\n",
       " </div>,\n",
       " <div class=\"jobsearch-SerpJobCard unifiedRow row result\" data-jk=\"9c60ef670b1fc5ed\" data-tn-component=\"organicJob\" id=\"p_9c60ef670b1fc5ed\">\n",
       " <h2 class=\"title\">\n",
       " <a class=\"jobtitle turnstileLink\" data-tn-element=\"jobTitle\" href=\"/rc/clk?jk=9c60ef670b1fc5ed&amp;fccid=9564506cc178d18c&amp;vjs=3\" id=\"jl_9c60ef670b1fc5ed\" onclick=\"setRefineByCookie([]); return rclk(this,jobmap[10],true,1);\" onmousedown=\"return rclk(this,jobmap[10],1);\" rel=\"noopener nofollow\" target=\"_blank\" title=\"Admissions and Data Services Administrator\">\n",
       " Admissions and <b>Data</b> Services Administrator</a>\n",
       " </h2>\n",
       " <div class=\"sjcl\">\n",
       " <div>\n",
       " <span class=\"company\">\n",
       " <a class=\"turnstileLink\" data-tn-element=\"companyName\" href=\"/cmp/University-of-Cambridge\" onmousedown=\"this.href = appendParamsOnce(this.href, 'from=SERP&amp;campaignid=serp-linkcompanyname&amp;fromjk=9c60ef670b1fc5ed&amp;jcid=9564506cc178d18c')\" rel=\"noopener\" target=\"_blank\">\n",
       " University of Cambridge</a></span>\n",
       " <span class=\"ratingsDisplay\">\n",
       " <a class=\"ratingNumber\" data-tn-variant=\"cmplinktst2\" href=\"/cmp/University-of-Cambridge/reviews\" onmousedown=\"this.href = appendParamsOnce(this.href, '?campaignid=cmplinktst2&amp;from=SERP&amp;jt=Admissions+and+Data+Services+Administrator&amp;fromjk=9c60ef670b1fc5ed&amp;jcid=9564506cc178d18c');\" rel=\"noopener\" target=\"_blank\" title=\"University of Cambridge reviews\">\n",
       " <span class=\"ratingsContent\">\n",
       " 4.2<svg class=\"starIcon\" height=\"12px\" role=\"img\" width=\"12px\">\n",
       " <g>\n",
       " <path d=\"M 12.00,4.34 C 12.00,4.34 7.69,3.97 7.69,3.97 7.69,3.97 6.00,0.00 6.00,0.00 6.00,0.00 4.31,3.98 4.31,3.98 4.31,3.98 0.00,4.34 0.00,4.34 0.00,4.34 3.28,7.18 3.28,7.18 3.28,7.18 2.29,11.40 2.29,11.40 2.29,11.40 6.00,9.16 6.00,9.16 6.00,9.16 9.71,11.40 9.71,11.40 9.71,11.40 8.73,7.18 8.73,7.18 8.73,7.18 12.00,4.34 12.00,4.34 Z\" style=\"fill: #FFB103\"></path>\n",
       " </g>\n",
       " </svg>\n",
       " </span>\n",
       " </a>\n",
       " </span>\n",
       " </div>\n",
       " <div class=\"recJobLoc\" data-rc-loc=\"Cambridge\" id=\"recJobLoc_9c60ef670b1fc5ed\" style=\"display: none\"></div>\n",
       " <span class=\"location accessible-contrast-color-location\">Cambridge</span>\n",
       " </div>\n",
       " <div class=\"salarySnippet salarySnippetDemphasizeholisticSalary\">\n",
       " <span class=\"salary no-wrap\">\n",
       " <span class=\"salaryText\">\n",
       " £26,715 - £30,942 a year</span>\n",
       " </span>\n",
       " </div>\n",
       " <div class=\"summary\">\n",
       " <ul style=\"list-style-type:circle;margin-top: 0px;margin-bottom: 0px;padding-left:20px;\">\n",
       " <li>The role holder will be expected to support those responsible for ensuring that admissions <b>data</b> is accurate and constantly ready for reporting purposes.</li>\n",
       " </ul></div>\n",
       " <div class=\"jobsearch-SerpJobCard-footer\">\n",
       " <div class=\"jobsearch-SerpJobCard-footerActions\">\n",
       " <div class=\"result-link-bar-container\">\n",
       " <div class=\"result-link-bar\"><span class=\"date\">8 days ago</span><span class=\"tt_set\" id=\"tt_set_10\"><span class=\"result-link-bar-separator\">·</span><a class=\"sl resultLink save-job-link\" href=\"#\" id=\"sj_9c60ef670b1fc5ed\" onclick=\"changeJobState('9c60ef670b1fc5ed', 'save', 'linkbar', false, ''); return false;\" title=\"Save this job to my.indeed\">Save job</a><span class=\"result-link-bar-separator\">·</span><button aria-expanded=\"false\" class=\"sl resultLink more-link\" id=\"tog_10\" onclick=\"toggleMoreLinks('9c60ef670b1fc5ed', '10'); return false;\">More...</button></span><div class=\"edit_note_content\" id=\"editsaved2_9c60ef670b1fc5ed\" style=\"display:none;\"></div><script>if (!window['result_9c60ef670b1fc5ed']) {window['result_9c60ef670b1fc5ed'] = {};}window['result_9c60ef670b1fc5ed']['showSource'] = false; window['result_9c60ef670b1fc5ed']['source'] = \"University of Cambridge\"; window['result_9c60ef670b1fc5ed']['loggedIn'] = false; window['result_9c60ef670b1fc5ed']['showMyJobsLinks'] = false;window['result_9c60ef670b1fc5ed']['undoAction'] = \"unsave\";window['result_9c60ef670b1fc5ed']['relativeJobAge'] = \"8 days ago\";window['result_9c60ef670b1fc5ed']['jobKey'] = \"9c60ef670b1fc5ed\"; window['result_9c60ef670b1fc5ed']['myIndeedAvailable'] = true; window['result_9c60ef670b1fc5ed']['showMoreActionsLink'] = window['result_9c60ef670b1fc5ed']['showMoreActionsLink'] || true; window['result_9c60ef670b1fc5ed']['resultNumber'] = 10; window['result_9c60ef670b1fc5ed']['jobStateChangedToSaved'] = false; window['result_9c60ef670b1fc5ed']['searchState'] = \"q=data&amp;\"; window['result_9c60ef670b1fc5ed']['basicPermaLink'] = \"https://www.indeed.co.uk\"; window['result_9c60ef670b1fc5ed']['saveJobFailed'] = false; window['result_9c60ef670b1fc5ed']['removeJobFailed'] = false; window['result_9c60ef670b1fc5ed']['requestPending'] = false; window['result_9c60ef670b1fc5ed']['notesEnabled'] = true; window['result_9c60ef670b1fc5ed']['currentPage'] = \"serp\"; window['result_9c60ef670b1fc5ed']['sponsored'] = false;window['result_9c60ef670b1fc5ed']['reportJobButtonEnabled'] = false; window['result_9c60ef670b1fc5ed']['showMyJobsHired'] = false; window['result_9c60ef670b1fc5ed']['showSaveForSponsored'] = false; window['result_9c60ef670b1fc5ed']['showJobAge'] = true; window['result_9c60ef670b1fc5ed']['showHolisticCard'] = true; window['result_9c60ef670b1fc5ed']['showDislike'] = false; window['result_9c60ef670b1fc5ed']['showKebab'] = false; window['result_9c60ef670b1fc5ed']['showReport'] = false;</script></div></div>\n",
       " </div>\n",
       " </div>\n",
       " <div class=\"tab-container\">\n",
       " <div class=\"more-links-container result-tab\" id=\"tt_display_7\" style=\"display:none;\"><div class=\"more_actions\" id=\"more_7\"><ul><li><span class=\"mat\">View all <a href=\"/University-of-Cambridge-jobs\">University of Cambridge jobs</a> - <a href=\"/jobs-in-Cambridge\">Cambridge jobs</a></span></li><li><span class=\"mat\">Salary Search: <a href=\"/salaries/data-administrator-Salaries,-Cambridge-ENG\" onmousedown=\"this.href = appendParamsOnce(this.href, '?campaignid=serp-more&amp;fromjk=9c60ef670b1fc5ed&amp;from=serp-more');\">Data Administrator salaries in Cambridge</a></span></li><li><span class=\"mat\">Learn more about working at <a href=\"/cmp/University-of-Cambridge\" onmousedown=\"this.href = appendParamsOnce(this.href, '?fromjk=9c60ef670b1fc5ed&amp;from=serp-more&amp;campaignid=serp-more&amp;jcid=9564506cc178d18c');\">University of Cambridge</a></span></li><li><span class=\"mat\">See popular <a href=\"/cmp/University-of-Cambridge/faq\" onmousedown=\"this.href = appendParamsOnce(this.href, '?from=serp-more&amp;campaignid=serp-more&amp;fromjk=9c60ef670b1fc5ed&amp;jcid=9564506cc178d18c');\">questions &amp; answers about University of Cambridge</a></span></li></ul></div><a class=\"close-link closeLink\" href=\"#\" onclick=\"toggleMoreLinks('9c60ef670b1fc5ed'); return false;\" title=\"Close\"></a></div><div class=\"dya-container result-tab\"></div>\n",
       " <div class=\"tellafriend-container result-tab email_job_content\"></div>\n",
       " <div class=\"sign-in-container result-tab\"></div>\n",
       " <div class=\"notes-container result-tab\"></div>\n",
       " </div>\n",
       " </div>,\n",
       " <div class=\"jobsearch-SerpJobCard unifiedRow row result\" data-ci=\"358556171\" data-empn=\"7925290475919606\" data-jk=\"f0c4da899fc553ac\" id=\"pj_f0c4da899fc553ac\">\n",
       " <style>\n",
       " .jobcard_logo{margin:6px 0}.jobcard_logo img{width:auto;max-width:80px;max-height:30px}.jasxrefreshcombotst .jobcard_logo img{max-height:2rem;max-width:100%}\n",
       " </style>\n",
       " <h2 class=\"title\">\n",
       " <a class=\"jobtitle turnstileLink\" data-tn-element=\"jobTitle\" href=\"/pagead/clk?mo=r&amp;ad=-6NYlbfkN0DNygq-uki1OS669e4ItDgDVoNDKDKVc57Hh7c8QHOdIyLn7qErnmaLfVco3s6f7gVLi-lTGQr9HjI76V59SdEPtr-CLqfTrWhLJ5F-iYlnxkiEU8iNkhVwHjVsl7QQlG592Sw31Y0JrWPmj16aLTVDYXsdIXuLqoK2nrr-EVrP3leq49Ng9Rru6_XzKQdtVaNG0XvO2L8unq7NBeoAoVbC_hzkwVU0MmQOYOWST1l2rvD0mpDBzGydbLtjJMhCj5NVELT0B6whGlVIbw0LxR0_-EUIlSiaWPF-xY7YCzcTL5YYS1ZGyXG4nzJSyjD5nkcAzgU1bhmlACrjJ-3E3E9qnfrAKNl0qu27-tD75O4YPepXWCIbYmu7ESA4z06b0Ycv1ObrTgVGB-vT6jzsjo4enrz2OCDfdy_ddBv06M9VD9a90XZNdiNnuLWq364zMeQFGGca_kQBtJlJ2VHf13-SGrve3kYA3P3mrO2vOfPrEMlVOd7lpjfG&amp;p=11&amp;fvj=0&amp;vjs=3\" id=\"sja11\" onclick=\"setRefineByCookie([]); sjoc('sja11', 1); convCtr('SJ'); rclk(this,jobmap[11],true,1);\" onmousedown=\"sjomd('sja11'); clk('sja11'); rclk(this,jobmap[11],1);\" rel=\"noopener nofollow\" target=\"_blank\" title=\"Social Research Data Collector\">\n",
       " Social Research <b>Data</b> Collector</a>\n",
       " </h2>\n",
       " <div class=\"sjcl\">\n",
       " <div>\n",
       " <span class=\"company\">\n",
       " <a class=\"turnstileLink\" data-tn-element=\"companyName\" href=\"/cmp/Kantar\" onmousedown=\"this.href = appendParamsOnce(this.href, 'from=SERP&amp;campaignid=serp-linkcompanyname&amp;fromjk=f0c4da899fc553ac&amp;jcid=fc0eeff012676923')\" rel=\"noopener\" target=\"_blank\">\n",
       " Kantar</a></span>\n",
       " <span class=\"ratingsDisplay\">\n",
       " <a class=\"ratingNumber\" data-tn-variant=\"cmplinktst2\" href=\"/cmp/Kantar/reviews\" onmousedown=\"this.href = appendParamsOnce(this.href, '?campaignid=cmplinktst2&amp;from=SERP&amp;jt=Social+Research+Data+Collector&amp;fromjk=f0c4da899fc553ac&amp;jcid=fc0eeff012676923');\" rel=\"noopener\" target=\"_blank\" title=\"Kantar reviews\">\n",
       " <span class=\"ratingsContent\">\n",
       " 3.7<svg class=\"starIcon\" height=\"12px\" role=\"img\" width=\"12px\">\n",
       " <g>\n",
       " <path d=\"M 12.00,4.34 C 12.00,4.34 7.69,3.97 7.69,3.97 7.69,3.97 6.00,0.00 6.00,0.00 6.00,0.00 4.31,3.98 4.31,3.98 4.31,3.98 0.00,4.34 0.00,4.34 0.00,4.34 3.28,7.18 3.28,7.18 3.28,7.18 2.29,11.40 2.29,11.40 2.29,11.40 6.00,9.16 6.00,9.16 6.00,9.16 9.71,11.40 9.71,11.40 9.71,11.40 8.73,7.18 8.73,7.18 8.73,7.18 12.00,4.34 12.00,4.34 Z\" style=\"fill: #FFB103\"></path>\n",
       " </g>\n",
       " </svg>\n",
       " </span>\n",
       " </a>\n",
       " </span>\n",
       " </div>\n",
       " <div class=\"recJobLoc\" data-rc-loc=\"Northampton\" id=\"recJobLoc_f0c4da899fc553ac\" style=\"display: none\"></div>\n",
       " <div class=\"location accessible-contrast-color-location\">Northampton</div>\n",
       " </div>\n",
       " <div class=\"salarySnippet salarySnippetDemphasizeholisticSalary\">\n",
       " <span class=\"salary no-wrap\">\n",
       " <span class=\"salaryText\">\n",
       " £80 - £100 a day</span>\n",
       " </span>\n",
       " </div>\n",
       " <table class=\"jobCardShelfContainer\" role=\"presentation\"><tr class=\"jobCardShelf\"><td class=\"jobCardShelfItem indeedApply\"><span class=\"jobCardShelfIcon\"><svg fill=\"none\" height=\"16\" viewbox=\"0 0 20 20\" width=\"16\"><rect fill=\"#FF5A1F\" height=\"20\" rx=\"10\" width=\"20\"></rect><path clip-rule=\"evenodd\" d=\"M15.3125 4.0625L10.8125 15.3125L7.99999 11.375L15.3125 4.0625ZM7.604 12.7576L6.875 15.3125L8.567 14.1054L7.604 12.7576ZM7.20463 10.5796L12.419 5.36525L4.0625 9.125L6.9875 10.7968L7.20463 10.5796Z\" fill=\"white\" fill-rule=\"evenodd\"></path></svg></span><span class=\"iaLabel iaIconActive\">Easily apply to this job</span></td></tr></table><div class=\"summary\">\n",
       " <ul style=\"list-style-type:circle;margin-top: 0px;margin-bottom: 0px;padding-left:20px;\">\n",
       " <li style=\"margin-bottom:0px;\">You'll need to work an average of six hours per-day, and commit to working three days per-week (minimum).</li>\n",
       " <li>PPE (gloves) &amp; full training will be provided.</li>\n",
       " </ul></div>\n",
       " <div class=\"jobsearch-SerpJobCard-footer\">\n",
       " <div class=\"jobsearch-SerpJobCard-footerActions\">\n",
       " <div class=\"result-link-bar-container\">\n",
       " <div class=\"result-link-bar\"><span class=\"date\">11 days ago</span><span class=\"tt_set\" id=\"tt_set_11\"><span class=\"result-link-bar-separator\">·</span><a class=\"sl resultLink save-job-link\" href=\"#\" id=\"sj_f0c4da899fc553ac\" onclick=\"changeJobState('f0c4da899fc553ac', 'save', 'linkbar', true, ''); return false;\" title=\"Save this job to my.indeed\">Save job</a></span><div class=\"edit_note_content\" id=\"editsaved2_f0c4da899fc553ac\" style=\"display:none;\"></div><script>if (!window['sj_result_f0c4da899fc553ac']) {window['sj_result_f0c4da899fc553ac'] = {};}window['sj_result_f0c4da899fc553ac']['showSource'] = false; window['sj_result_f0c4da899fc553ac']['source'] = \"Kantar\"; window['sj_result_f0c4da899fc553ac']['loggedIn'] = false; window['sj_result_f0c4da899fc553ac']['showMyJobsLinks'] = false;window['sj_result_f0c4da899fc553ac']['undoAction'] = \"unsave\";window['sj_result_f0c4da899fc553ac']['relativeJobAge'] = \"11 days ago\";window['sj_result_f0c4da899fc553ac']['jobKey'] = \"f0c4da899fc553ac\"; window['sj_result_f0c4da899fc553ac']['myIndeedAvailable'] = true; window['sj_result_f0c4da899fc553ac']['showMoreActionsLink'] = window['sj_result_f0c4da899fc553ac']['showMoreActionsLink'] || false; window['sj_result_f0c4da899fc553ac']['resultNumber'] = 11; window['sj_result_f0c4da899fc553ac']['jobStateChangedToSaved'] = false; window['sj_result_f0c4da899fc553ac']['searchState'] = \"q=data&amp;\"; window['sj_result_f0c4da899fc553ac']['basicPermaLink'] = \"https://www.indeed.co.uk\"; window['sj_result_f0c4da899fc553ac']['saveJobFailed'] = false; window['sj_result_f0c4da899fc553ac']['removeJobFailed'] = false; window['sj_result_f0c4da899fc553ac']['requestPending'] = false; window['sj_result_f0c4da899fc553ac']['notesEnabled'] = false; window['sj_result_f0c4da899fc553ac']['currentPage'] = \"serp\"; window['sj_result_f0c4da899fc553ac']['sponsored'] = true;window['sj_result_f0c4da899fc553ac']['reportJobButtonEnabled'] = false; window['sj_result_f0c4da899fc553ac']['showMyJobsHired'] = false; window['sj_result_f0c4da899fc553ac']['showSaveForSponsored'] = true; window['sj_result_f0c4da899fc553ac']['showJobAge'] = true; window['sj_result_f0c4da899fc553ac']['showHolisticCard'] = true; window['sj_result_f0c4da899fc553ac']['showDislike'] = false; window['sj_result_f0c4da899fc553ac']['showKebab'] = false; window['sj_result_f0c4da899fc553ac']['showReport'] = false;</script></div></div>\n",
       " </div>\n",
       " </div>\n",
       " <div class=\"tab-container\">\n",
       " <div class=\"sign-in-container result-tab\"></div>\n",
       " <div class=\"tellafriend-container result-tab email_job_content\"></div>\n",
       " </div>\n",
       " </div>,\n",
       " <div class=\"jobsearch-SerpJobCard unifiedRow row result\" data-jk=\"65cc8df228f482e3\" data-tn-component=\"organicJob\" id=\"p_65cc8df228f482e3\">\n",
       " <h2 class=\"title\">\n",
       " <a class=\"jobtitle turnstileLink\" data-tn-element=\"jobTitle\" href=\"/rc/clk?jk=65cc8df228f482e3&amp;fccid=d9cae5807f63d6ff&amp;vjs=3\" id=\"jl_65cc8df228f482e3\" onclick=\"setRefineByCookie([]); return rclk(this,jobmap[12],true,0);\" onmousedown=\"return rclk(this,jobmap[12],0);\" rel=\"noopener nofollow\" target=\"_blank\" title=\"Junior Data Scientist\">\n",
       " Junior <b>Data</b> Scientist</a>\n",
       " </h2>\n",
       " <div class=\"sjcl\">\n",
       " <div>\n",
       " <span class=\"company\">\n",
       " Novafutur</span>\n",
       " </div>\n",
       " <div class=\"recJobLoc\" data-rc-loc=\"London\" id=\"recJobLoc_65cc8df228f482e3\" style=\"display: none\"></div>\n",
       " <span class=\"location accessible-contrast-color-location\">London</span>\n",
       " </div>\n",
       " <div class=\"summary\">\n",
       " <ul style=\"list-style-type:circle;margin-top: 0px;margin-bottom: 0px;padding-left:20px;\">\n",
       " <li>Being a <b>data</b> scientist would require the ability to analyse big <b>data</b> sets coming from heterogeneous producers both in real time and offline, as well as to apply…</li>\n",
       " </ul></div>\n",
       " <div class=\"jobsearch-SerpJobCard-footer\">\n",
       " <div class=\"jobsearch-SerpJobCard-footerActions\">\n",
       " <div class=\"result-link-bar-container\">\n",
       " <div class=\"result-link-bar\"><span class=\"date\">30+ days ago</span><span class=\"tt_set\" id=\"tt_set_12\"><span class=\"result-link-bar-separator\">·</span><a class=\"sl resultLink save-job-link\" href=\"#\" id=\"sj_65cc8df228f482e3\" onclick=\"changeJobState('65cc8df228f482e3', 'save', 'linkbar', false, ''); return false;\" title=\"Save this job to my.indeed\">Save job</a><span class=\"result-link-bar-separator\">·</span><button aria-expanded=\"false\" class=\"sl resultLink more-link\" id=\"tog_12\" onclick=\"toggleMoreLinks('65cc8df228f482e3', '12'); return false;\">More...</button></span><div class=\"edit_note_content\" id=\"editsaved2_65cc8df228f482e3\" style=\"display:none;\"></div><script>if (!window['result_65cc8df228f482e3']) {window['result_65cc8df228f482e3'] = {};}window['result_65cc8df228f482e3']['showSource'] = false; window['result_65cc8df228f482e3']['source'] = \"Novafutur\"; window['result_65cc8df228f482e3']['loggedIn'] = false; window['result_65cc8df228f482e3']['showMyJobsLinks'] = false;window['result_65cc8df228f482e3']['undoAction'] = \"unsave\";window['result_65cc8df228f482e3']['relativeJobAge'] = \"30+ days ago\";window['result_65cc8df228f482e3']['jobKey'] = \"65cc8df228f482e3\"; window['result_65cc8df228f482e3']['myIndeedAvailable'] = true; window['result_65cc8df228f482e3']['showMoreActionsLink'] = window['result_65cc8df228f482e3']['showMoreActionsLink'] || true; window['result_65cc8df228f482e3']['resultNumber'] = 12; window['result_65cc8df228f482e3']['jobStateChangedToSaved'] = false; window['result_65cc8df228f482e3']['searchState'] = \"q=data&amp;\"; window['result_65cc8df228f482e3']['basicPermaLink'] = \"https://www.indeed.co.uk\"; window['result_65cc8df228f482e3']['saveJobFailed'] = false; window['result_65cc8df228f482e3']['removeJobFailed'] = false; window['result_65cc8df228f482e3']['requestPending'] = false; window['result_65cc8df228f482e3']['notesEnabled'] = true; window['result_65cc8df228f482e3']['currentPage'] = \"serp\"; window['result_65cc8df228f482e3']['sponsored'] = false;window['result_65cc8df228f482e3']['reportJobButtonEnabled'] = false; window['result_65cc8df228f482e3']['showMyJobsHired'] = false; window['result_65cc8df228f482e3']['showSaveForSponsored'] = false; window['result_65cc8df228f482e3']['showJobAge'] = true; window['result_65cc8df228f482e3']['showHolisticCard'] = true; window['result_65cc8df228f482e3']['showDislike'] = false; window['result_65cc8df228f482e3']['showKebab'] = false; window['result_65cc8df228f482e3']['showReport'] = false;</script></div></div>\n",
       " </div>\n",
       " </div>\n",
       " <div class=\"tab-container\">\n",
       " <div class=\"more-links-container result-tab\" id=\"tt_display_8\" style=\"display:none;\"><div class=\"more_actions\" id=\"more_8\"><ul><li><span class=\"mat\">View all <a href=\"/Novafutur-jobs\">Novafutur jobs</a> - <a href=\"/jobs-in-London\">London jobs</a></span></li><li><span class=\"mat\">Salary Search: <a href=\"/salaries/junior-data-scientist-Salaries,-London-ENG\" onmousedown=\"this.href = appendParamsOnce(this.href, '?campaignid=serp-more&amp;fromjk=65cc8df228f482e3&amp;from=serp-more');\">Junior Data Scientist salaries in London</a></span></li></ul></div><a class=\"close-link closeLink\" href=\"#\" onclick=\"toggleMoreLinks('65cc8df228f482e3'); return false;\" title=\"Close\"></a></div><div class=\"dya-container result-tab\"></div>\n",
       " <div class=\"tellafriend-container result-tab email_job_content\"></div>\n",
       " <div class=\"sign-in-container result-tab\"></div>\n",
       " <div class=\"notes-container result-tab\"></div>\n",
       " </div>\n",
       " </div>,\n",
       " <div class=\"jobsearch-SerpJobCard unifiedRow row result\" data-jk=\"ea541236a7f47a08\" data-tn-component=\"organicJob\" id=\"p_ea541236a7f47a08\">\n",
       " <h2 class=\"title\">\n",
       " <a class=\"jobtitle turnstileLink\" data-tn-element=\"jobTitle\" href=\"/rc/clk?jk=ea541236a7f47a08&amp;fccid=4945cac39dc79b26&amp;vjs=3\" id=\"jl_ea541236a7f47a08\" onclick=\"setRefineByCookie([]); return rclk(this,jobmap[13],true,1);\" onmousedown=\"return rclk(this,jobmap[13],1);\" rel=\"noopener nofollow\" target=\"_blank\" title=\"ITV Apprenticeship - Data Scientist Apprentice\">\n",
       " ITV Apprenticeship - <b>Data</b> Scientist Apprentice</a>\n",
       " <span class=\"new\">new</span></h2>\n",
       " <div class=\"sjcl\">\n",
       " <div>\n",
       " <span class=\"company\">\n",
       " <a class=\"turnstileLink\" data-tn-element=\"companyName\" href=\"/cmp/Itv\" onmousedown=\"this.href = appendParamsOnce(this.href, 'from=SERP&amp;campaignid=serp-linkcompanyname&amp;fromjk=ea541236a7f47a08&amp;jcid=3bf3e8a57da58ff5')\" rel=\"noopener\" target=\"_blank\">\n",
       " ITV Jobs</a></span>\n",
       " <span class=\"ratingsDisplay\">\n",
       " <a class=\"ratingNumber\" data-tn-variant=\"cmplinktst2\" href=\"/cmp/Itv/reviews\" onmousedown=\"this.href = appendParamsOnce(this.href, '?campaignid=cmplinktst2&amp;from=SERP&amp;jt=ITV+Apprenticeship+-+Data+Scientist+Apprentice&amp;fromjk=ea541236a7f47a08&amp;jcid=3bf3e8a57da58ff5');\" rel=\"noopener\" target=\"_blank\" title=\"Itv Jobs reviews\">\n",
       " <span class=\"ratingsContent\">\n",
       " 4.0<svg class=\"starIcon\" height=\"12px\" role=\"img\" width=\"12px\">\n",
       " <g>\n",
       " <path d=\"M 12.00,4.34 C 12.00,4.34 7.69,3.97 7.69,3.97 7.69,3.97 6.00,0.00 6.00,0.00 6.00,0.00 4.31,3.98 4.31,3.98 4.31,3.98 0.00,4.34 0.00,4.34 0.00,4.34 3.28,7.18 3.28,7.18 3.28,7.18 2.29,11.40 2.29,11.40 2.29,11.40 6.00,9.16 6.00,9.16 6.00,9.16 9.71,11.40 9.71,11.40 9.71,11.40 8.73,7.18 8.73,7.18 8.73,7.18 12.00,4.34 12.00,4.34 Z\" style=\"fill: #FFB103\"></path>\n",
       " </g>\n",
       " </svg>\n",
       " </span>\n",
       " </a>\n",
       " </span>\n",
       " </div>\n",
       " <div class=\"recJobLoc\" data-rc-loc=\"London\" id=\"recJobLoc_ea541236a7f47a08\" style=\"display: none\"></div>\n",
       " <span class=\"location accessible-contrast-color-location\">London</span>\n",
       " <span class=\"remote-bullet\">•</span>\n",
       " <span class=\"remote\">Temporarily remote</span>\n",
       " </div>\n",
       " <div class=\"salarySnippet salarySnippetDemphasizeholisticSalary\">\n",
       " <span class=\"salary no-wrap\">\n",
       " <span class=\"salaryText\">\n",
       " £21,032 a year</span>\n",
       " </span>\n",
       " </div>\n",
       " <div class=\"summary\">\n",
       " <ul style=\"list-style-type:circle;margin-top: 0px;margin-bottom: 0px;padding-left:20px;\">\n",
       " <li>You’ll be excited to learn how <b>data</b>, models and statistics can help answer business problems and build your skill set across research and Insight.</li>\n",
       " </ul></div>\n",
       " <div class=\"jobsearch-SerpJobCard-footer\">\n",
       " <div class=\"jobsearch-SerpJobCard-footerActions\">\n",
       " <div class=\"result-link-bar-container\">\n",
       " <div class=\"result-link-bar\"><span class=\"date\">Today</span><span class=\"tt_set\" id=\"tt_set_13\"><span class=\"result-link-bar-separator\">·</span><a class=\"sl resultLink save-job-link\" href=\"#\" id=\"sj_ea541236a7f47a08\" onclick=\"changeJobState('ea541236a7f47a08', 'save', 'linkbar', false, ''); return false;\" title=\"Save this job to my.indeed\">Save job</a><span class=\"result-link-bar-separator\">·</span><button aria-expanded=\"false\" class=\"sl resultLink more-link\" id=\"tog_13\" onclick=\"toggleMoreLinks('ea541236a7f47a08', '13'); return false;\">More...</button></span><div class=\"edit_note_content\" id=\"editsaved2_ea541236a7f47a08\" style=\"display:none;\"></div><script>if (!window['result_ea541236a7f47a08']) {window['result_ea541236a7f47a08'] = {};}window['result_ea541236a7f47a08']['showSource'] = false; window['result_ea541236a7f47a08']['source'] = \"ITV Jobs\"; window['result_ea541236a7f47a08']['loggedIn'] = false; window['result_ea541236a7f47a08']['showMyJobsLinks'] = false;window['result_ea541236a7f47a08']['undoAction'] = \"unsave\";window['result_ea541236a7f47a08']['relativeJobAge'] = \"Today\";window['result_ea541236a7f47a08']['jobKey'] = \"ea541236a7f47a08\"; window['result_ea541236a7f47a08']['myIndeedAvailable'] = true; window['result_ea541236a7f47a08']['showMoreActionsLink'] = window['result_ea541236a7f47a08']['showMoreActionsLink'] || true; window['result_ea541236a7f47a08']['resultNumber'] = 13; window['result_ea541236a7f47a08']['jobStateChangedToSaved'] = false; window['result_ea541236a7f47a08']['searchState'] = \"q=data&amp;\"; window['result_ea541236a7f47a08']['basicPermaLink'] = \"https://www.indeed.co.uk\"; window['result_ea541236a7f47a08']['saveJobFailed'] = false; window['result_ea541236a7f47a08']['removeJobFailed'] = false; window['result_ea541236a7f47a08']['requestPending'] = false; window['result_ea541236a7f47a08']['notesEnabled'] = true; window['result_ea541236a7f47a08']['currentPage'] = \"serp\"; window['result_ea541236a7f47a08']['sponsored'] = false;window['result_ea541236a7f47a08']['reportJobButtonEnabled'] = false; window['result_ea541236a7f47a08']['showMyJobsHired'] = false; window['result_ea541236a7f47a08']['showSaveForSponsored'] = false; window['result_ea541236a7f47a08']['showJobAge'] = true; window['result_ea541236a7f47a08']['showHolisticCard'] = true; window['result_ea541236a7f47a08']['showDislike'] = false; window['result_ea541236a7f47a08']['showKebab'] = false; window['result_ea541236a7f47a08']['showReport'] = false;</script></div></div>\n",
       " </div>\n",
       " </div>\n",
       " <div class=\"tab-container\">\n",
       " <div class=\"more-links-container result-tab\" id=\"tt_display_9\" style=\"display:none;\"><div class=\"more_actions\" id=\"more_9\"><ul><li><span class=\"mat\">View all <a href=\"/Itv-Jobs-jobs\">ITV Jobs jobs</a> - <a href=\"/jobs-in-London\">London jobs</a></span></li><li><span class=\"mat\">Salary Search: <a href=\"/salaries/data-scientist-Salaries,-London-ENG\" onmousedown=\"this.href = appendParamsOnce(this.href, '?campaignid=serp-more&amp;fromjk=ea541236a7f47a08&amp;from=serp-more');\">Data Scientist salaries in London</a></span></li><li><span class=\"mat\">Learn more about working at <a href=\"/cmp/Itv\" onmousedown=\"this.href = appendParamsOnce(this.href, '?fromjk=ea541236a7f47a08&amp;from=serp-more&amp;campaignid=serp-more&amp;jcid=3bf3e8a57da58ff5');\">ITV Jobs</a></span></li><li><span class=\"mat\">See popular <a href=\"/cmp/Itv/faq\" onmousedown=\"this.href = appendParamsOnce(this.href, '?from=serp-more&amp;campaignid=serp-more&amp;fromjk=ea541236a7f47a08&amp;jcid=3bf3e8a57da58ff5');\">questions &amp; answers about ITV Jobs</a></span></li></ul></div><a class=\"close-link closeLink\" href=\"#\" onclick=\"toggleMoreLinks('ea541236a7f47a08'); return false;\" title=\"Close\"></a></div><div class=\"dya-container result-tab\"></div>\n",
       " <div class=\"tellafriend-container result-tab email_job_content\"></div>\n",
       " <div class=\"sign-in-container result-tab\"></div>\n",
       " <div class=\"notes-container result-tab\"></div>\n",
       " </div>\n",
       " </div>,\n",
       " <div class=\"jobsearch-SerpJobCard unifiedRow row result\" data-ci=\"358730673\" data-empn=\"5390964240613173\" data-jk=\"4dbc8f45a3a83e6b\" id=\"pj_4dbc8f45a3a83e6b\">\n",
       " <style>\n",
       " .jobcard_logo{margin:6px 0}.jobcard_logo img{width:auto;max-width:80px;max-height:30px}.jasxrefreshcombotst .jobcard_logo img{max-height:2rem;max-width:100%}\n",
       " </style>\n",
       " <h2 class=\"title\">\n",
       " <a class=\"jobtitle turnstileLink\" data-tn-element=\"jobTitle\" href=\"/pagead/clk?mo=r&amp;ad=-6NYlbfkN0Cd7cDu82VjKIvwjIcrZOpOjp0MbwRM7Ka3EK2MwFaB-0RgWAI1wmcDvXoR6yQ7IyoElWgrXMBP7maU3P4YhbOSmuvU7OiteXKubqiCenXj1OTGjK8i7Krkfes__9qJyI9QeZ-vcyl6KxOVfDbE66yBrwksSzWq3eLHdhPZq3OilHU9d33XhbO72IjdHh4yPg1S3Itv5rlu-RQwGOP1idF9t8dj4uIdvUxhIGD3fOyIhw3pVOMtPTO0m2D5ay2ZIcYm2gabgdUiVDZPaj0Vmg_npkU_g1D7zBRmzXwcwMT_Rja26gTt5GJtZHbAYNjGDRBvaasmCoaian8tovDTCX9otagG-hC6WrbJz4FHChKEt3saWauzq9Dr13TYYx6O6nGvLApdhft1LJGN6JKpJ9AW2iB-pOiw82Prx1RcT6J4-5iUqTm4v_u1ypvtKaKT5qE=&amp;p=14&amp;fvj=1&amp;vjs=3\" id=\"sja14\" onclick=\"setRefineByCookie([]); sjoc('sja14', 1); convCtr('SJ'); rclk(this,jobmap[14],true,1);\" onmousedown=\"sjomd('sja14'); clk('sja14'); rclk(this,jobmap[14],1);\" rel=\"noopener nofollow\" target=\"_blank\" title=\"Performance Data Analyst\">\n",
       " Performance <b>Data</b> Analyst</a>\n",
       " <span class=\"new\">new</span></h2>\n",
       " <div class=\"sjcl\">\n",
       " <div>\n",
       " <span class=\"company\">\n",
       " Global Project Resources Limited</span>\n",
       " </div>\n",
       " <div class=\"recJobLoc\" data-rc-loc=\"Bexleyheath\" id=\"recJobLoc_4dbc8f45a3a83e6b\" style=\"display: none\"></div>\n",
       " <div class=\"location accessible-contrast-color-location\">Bexleyheath DA6</div>\n",
       " </div>\n",
       " <div class=\"salarySnippet salarySnippetDemphasizeholisticSalary\">\n",
       " <span class=\"salary no-wrap\">\n",
       " <span class=\"salaryText\">\n",
       " £16 - £18 an hour</span>\n",
       " </span>\n",
       " </div>\n",
       " <table class=\"jobCardShelfContainer\" role=\"presentation\"><tr class=\"jobCardShelf\"><td class=\"jobCardShelfItem indeedApply\"><span class=\"jobCardShelfIcon\"><svg fill=\"none\" height=\"16\" viewbox=\"0 0 20 20\" width=\"16\"><rect fill=\"#FF5A1F\" height=\"20\" rx=\"10\" width=\"20\"></rect><path clip-rule=\"evenodd\" d=\"M15.3125 4.0625L10.8125 15.3125L7.99999 11.375L15.3125 4.0625ZM7.604 12.7576L6.875 15.3125L8.567 14.1054L7.604 12.7576ZM7.20463 10.5796L12.419 5.36525L4.0625 9.125L6.9875 10.7968L7.20463 10.5796Z\" fill=\"white\" fill-rule=\"evenodd\"></path></svg></span><span class=\"iaLabel iaIconActive\">Easily apply to this job</span></td></tr></table><div class=\"summary\">\n",
       " <ul style=\"list-style-type:circle;margin-top: 0px;margin-bottom: 0px;padding-left:20px;\">\n",
       " <li>Experience of <b>data</b> management, including capturing <b>data</b> e.g. by writing Business Objects reports, organising <b>data</b> in line with recognised standards and sharing…</li>\n",
       " </ul></div>\n",
       " <div class=\"jobsearch-SerpJobCard-footer\">\n",
       " <div class=\"jobsearch-SerpJobCard-footerActions\">\n",
       " <div class=\"result-link-bar-container\">\n",
       " <div class=\"result-link-bar\"><span class=\"date\">3 days ago</span><span class=\"tt_set\" id=\"tt_set_14\"><span class=\"result-link-bar-separator\">·</span><a class=\"sl resultLink save-job-link\" href=\"#\" id=\"sj_4dbc8f45a3a83e6b\" onclick=\"changeJobState('4dbc8f45a3a83e6b', 'save', 'linkbar', true, ''); return false;\" title=\"Save this job to my.indeed\">Save job</a></span><div class=\"edit_note_content\" id=\"editsaved2_4dbc8f45a3a83e6b\" style=\"display:none;\"></div><script>if (!window['sj_result_4dbc8f45a3a83e6b']) {window['sj_result_4dbc8f45a3a83e6b'] = {};}window['sj_result_4dbc8f45a3a83e6b']['showSource'] = false; window['sj_result_4dbc8f45a3a83e6b']['source'] = \"Indeed\"; window['sj_result_4dbc8f45a3a83e6b']['loggedIn'] = false; window['sj_result_4dbc8f45a3a83e6b']['showMyJobsLinks'] = false;window['sj_result_4dbc8f45a3a83e6b']['undoAction'] = \"unsave\";window['sj_result_4dbc8f45a3a83e6b']['relativeJobAge'] = \"3 days ago\";window['sj_result_4dbc8f45a3a83e6b']['jobKey'] = \"4dbc8f45a3a83e6b\"; window['sj_result_4dbc8f45a3a83e6b']['myIndeedAvailable'] = true; window['sj_result_4dbc8f45a3a83e6b']['showMoreActionsLink'] = window['sj_result_4dbc8f45a3a83e6b']['showMoreActionsLink'] || false; window['sj_result_4dbc8f45a3a83e6b']['resultNumber'] = 14; window['sj_result_4dbc8f45a3a83e6b']['jobStateChangedToSaved'] = false; window['sj_result_4dbc8f45a3a83e6b']['searchState'] = \"q=data&amp;\"; window['sj_result_4dbc8f45a3a83e6b']['basicPermaLink'] = \"https://www.indeed.co.uk\"; window['sj_result_4dbc8f45a3a83e6b']['saveJobFailed'] = false; window['sj_result_4dbc8f45a3a83e6b']['removeJobFailed'] = false; window['sj_result_4dbc8f45a3a83e6b']['requestPending'] = false; window['sj_result_4dbc8f45a3a83e6b']['notesEnabled'] = false; window['sj_result_4dbc8f45a3a83e6b']['currentPage'] = \"serp\"; window['sj_result_4dbc8f45a3a83e6b']['sponsored'] = true;window['sj_result_4dbc8f45a3a83e6b']['reportJobButtonEnabled'] = false; window['sj_result_4dbc8f45a3a83e6b']['showMyJobsHired'] = false; window['sj_result_4dbc8f45a3a83e6b']['showSaveForSponsored'] = true; window['sj_result_4dbc8f45a3a83e6b']['showJobAge'] = true; window['sj_result_4dbc8f45a3a83e6b']['showHolisticCard'] = true; window['sj_result_4dbc8f45a3a83e6b']['showDislike'] = false; window['sj_result_4dbc8f45a3a83e6b']['showKebab'] = false; window['sj_result_4dbc8f45a3a83e6b']['showReport'] = false;</script></div></div>\n",
       " </div>\n",
       " </div>\n",
       " <div class=\"tab-container\">\n",
       " <div class=\"sign-in-container result-tab\"></div>\n",
       " <div class=\"tellafriend-container result-tab email_job_content\"></div>\n",
       " </div>\n",
       " </div>]"
      ]
     },
     "execution_count": 3,
     "metadata": {},
     "output_type": "execute_result"
    }
   ],
   "source": [
    "url = \"https://www.indeed.co.uk/jobs?q=data&l=\"\n",
    "\n",
    "r = requests.get(url)\n",
    "soup = BeautifulSoup(r.text, 'html.parser')\n",
    "\n",
    "results = soup.find_all('div', class_='result')\n",
    "results"
   ]
  },
  {
   "cell_type": "markdown",
   "metadata": {
    "focus": false,
    "id": "bb0b866a-26a7-45e9-8084-5a0f90eb4b3e"
   },
   "source": [
    "Let's look at one result more closely. A single `result` looks like\n",
    "\n",
    "```\n",
    "<div class=\" row result\" data-jk=\"2480d203f7e97210\" data-tn-component=\"organicJob\" id=\"p_2480d203f7e97210\" itemscope=\"\" itemtype=\"http://schema.org/JobPosting\">\n",
    "<h2 class=\"jobtitle\" id=\"jl_2480d203f7e97210\">\n",
    "<a class=\"turnstileLink\" data-tn-element=\"jobTitle\" onmousedown=\"return rclk(this,jobmap[0],1);\" rel=\"nofollow\" target=\"_blank\" title=\"AVP/Quantitative Analyst\">AVP/Quantitative Analyst</a>\n",
    "</h2>\n",
    "<span class=\"company\" itemprop=\"hiringOrganization\" itemtype=\"http://schema.org/Organization\">\n",
    "<span itemprop=\"name\">\n",
    "<a href=\"/cmp/Alliancebernstein?from=SERP&amp;campaignid=serp-linkcompanyname&amp;fromjk=2480d203f7e97210&amp;jcid=b374f2a780e04789\" target=\"_blank\">\n",
    "    AllianceBernstein</a></span>\n",
    "</span>\n",
    "<tr>\n",
    "<td class=\"snip\">\n",
    "<nobr>$117,500 - $127,500 a year</nobr>\n",
    "<div>\n",
    "<span class=\"summary\" itemprop=\"description\">\n",
    "C onduct quantitative and statistical research as well as portfolio management for various investment portfolios. Collaborate with Quantitative Analysts and</span>\n",
    "</div>\n",
    "</div>\n",
    "</td>\n",
    "</tr>\n",
    "</table>\n",
    "</div>\n",
    "```\n",
    "\n",
    "While this has some more verbose elements removed, we can see that there is some structure to the above:\n",
    "- The salary is in a `span` with `class='salaryText'`.\n",
    "- The title of a job is in a link with class set to `jobtitle` and a `data-tn-element='jobTitle'`.  \n",
    "- The location is set in a `span` with `class='location'`. \n",
    "- The company is set in a `span` with `class='company'`. \n",
    "- Decide which other components could be relevant, for example the region or the summary of the job advert."
   ]
  },
  {
   "cell_type": "markdown",
   "metadata": {
    "focus": false,
    "id": "f1eddb90-4ba8-483c-a229-77e93aa53119"
   },
   "source": [
    "### Write 4 functions to extract each item: location, company, job, and salary.\n",
    "\n",
    "Example: \n",
    "```python\n",
    "def extract_location_from_result(result):\n",
    "    return result.find ...\n",
    "```\n",
    "\n",
    "\n",
    "- **Make sure these functions are robust and can handle cases where the data/field may not be available.**\n",
    "    - Remember to check if a field is empty or `None` for attempting to call methods on it.\n",
    "    - Remember to use `try/except` if you anticipate errors.\n",
    "- **Test** the functions on the results above and simple examples."
   ]
  },
  {
   "cell_type": "code",
   "execution_count": 4,
   "metadata": {},
   "outputs": [],
   "source": [
    "title = []\n",
    "\n",
    "def extract_title_from_result(results):\n",
    "    for job in results:\n",
    "        try:\n",
    "            title.append(job.find(class_='jobtitle').text.replace('\\n',''))\n",
    "        except:\n",
    "            title.append(np.nan)\n",
    "extract_title_from_result(results)"
   ]
  },
  {
   "cell_type": "code",
   "execution_count": 5,
   "metadata": {},
   "outputs": [
    {
     "name": "stdout",
     "output_type": "stream",
     "text": [
      "['Data Engineer', 'Data Entry Administrator', 'Data Analyst', 'SEN Data Quality Officer', 'Data Analyst', 'Data Entry Clerks', 'PUBLIC HEALTH DATA OFFICER', 'Data Scientist Intern', 'DATA ANALYST', 'Part Time role Data & Compliance Administrator', 'Admissions and Data Services Administrator', 'Social Research Data Collector', 'Junior Data Scientist', 'ITV Apprenticeship - Data Scientist Apprentice', 'Performance Data Analyst']\n"
     ]
    }
   ],
   "source": [
    "print(title)"
   ]
  },
  {
   "cell_type": "code",
   "execution_count": 6,
   "metadata": {
    "focus": false,
    "id": "a1af53c9-9090-494f-b82e-cadb60a54909"
   },
   "outputs": [],
   "source": [
    "location = []\n",
    "\n",
    "def extract_location_from_result(results):\n",
    "    for job in results:\n",
    "        try:\n",
    "            location.append(job.find(class_=\"location\").text)\n",
    "        except:\n",
    "            location.append(np.nan)\n",
    "extract_location_from_result(results)"
   ]
  },
  {
   "cell_type": "code",
   "execution_count": 7,
   "metadata": {
    "scrolled": true
   },
   "outputs": [
    {
     "name": "stdout",
     "output_type": "stream",
     "text": [
      "['London W2 6LG', 'Stockport SK6 2SD', 'London', 'Lambeth', 'Home Based', 'Borough Station', 'Morden', 'London', 'London', 'Chichester', 'Cambridge', 'Northampton', 'London', 'London', 'Bexleyheath DA6']\n"
     ]
    }
   ],
   "source": [
    "print(location)"
   ]
  },
  {
   "cell_type": "code",
   "execution_count": 8,
   "metadata": {},
   "outputs": [],
   "source": [
    "company = []\n",
    "\n",
    "def extract_company_from_result(results):\n",
    "    for job in results:\n",
    "        try:\n",
    "            company.append(job.find(class_='company').text.replace('\\n',''))\n",
    "        except:\n",
    "            company.append(np.nan)\n",
    "extract_company_from_result(results)"
   ]
  },
  {
   "cell_type": "code",
   "execution_count": 9,
   "metadata": {},
   "outputs": [
    {
     "name": "stdout",
     "output_type": "stream",
     "text": [
      "['HyperJar Limited', 'Simon Charles Auctioneers & Valuers', 'TikTok', 'Spencer Clarke Group', 'Aula Education', 'DirectTemping', 'Intec Select', 'Buzz Radar', 'Dr Martens', 'Capita Plc', 'University of Cambridge', 'Kantar', 'Novafutur', 'ITV Jobs', 'Global Project Resources Limited']\n"
     ]
    }
   ],
   "source": [
    "print(company)"
   ]
  },
  {
   "cell_type": "code",
   "execution_count": 10,
   "metadata": {},
   "outputs": [],
   "source": [
    "salary=[]\n",
    "\n",
    "def extract_salary_from_result(results):\n",
    "    for job in results:\n",
    "        try:\n",
    "            salary.append(job.find(class_='salary').text.replace('\\n',''))\n",
    "        except:\n",
    "            salary.append(np.nan)\n",
    "extract_salary_from_result(results)"
   ]
  },
  {
   "cell_type": "code",
   "execution_count": 11,
   "metadata": {},
   "outputs": [
    {
     "name": "stdout",
     "output_type": "stream",
     "text": [
      "['£35,000 - £50,000 a year', '£8.72 an hour', nan, '£18 - £23 an hour', '£300 - £400 a day', '£10.75 an hour', '£280 - £320 a week', nan, nan, '£19,000 a year', '£26,715 - £30,942 a year', '£80 - £100 a day', nan, '£21,032 a year', '£16 - £18 an hour']\n"
     ]
    }
   ],
   "source": [
    "print(salary)"
   ]
  },
  {
   "cell_type": "code",
   "execution_count": 12,
   "metadata": {},
   "outputs": [],
   "source": [
    "date = []\n",
    "\n",
    "def extract_date_from_result(results):\n",
    "    for job in results:\n",
    "        try:\n",
    "            date.append(job.find(class_='date').text)\n",
    "        except:\n",
    "            date.append(np.nan)\n",
    "extract_date_from_result(results)"
   ]
  },
  {
   "cell_type": "code",
   "execution_count": 13,
   "metadata": {},
   "outputs": [
    {
     "name": "stdout",
     "output_type": "stream",
     "text": [
      "['Just posted', 'Just posted', '28 days ago', '5 days ago', '6 days ago', '14 days ago', '8 days ago', '27 days ago', '6 days ago', '10 days ago', '8 days ago', '11 days ago', '30+ days ago', 'Today', '3 days ago']\n"
     ]
    }
   ],
   "source": [
    "print(date)"
   ]
  },
  {
   "cell_type": "code",
   "execution_count": 14,
   "metadata": {},
   "outputs": [],
   "source": [
    "rating = []\n",
    "\n",
    "def extract_rating_from_result(results):\n",
    "    for job in results:\n",
    "        try:\n",
    "            rating.append(job.find(class_='ratingsContent').text.replace(\"\\n\",\"\"))\n",
    "        except:\n",
    "            rating.append(np.nan)\n",
    "extract_rating_from_result(results)   "
   ]
  },
  {
   "cell_type": "code",
   "execution_count": 15,
   "metadata": {},
   "outputs": [
    {
     "name": "stdout",
     "output_type": "stream",
     "text": [
      "[nan, nan, '4.0', nan, nan, nan, nan, nan, '4.1', '3.2', '4.2', '3.7', nan, '4.0', nan]\n"
     ]
    }
   ],
   "source": [
    "print(rating)"
   ]
  },
  {
   "cell_type": "code",
   "execution_count": 16,
   "metadata": {},
   "outputs": [
    {
     "data": {
      "text/html": [
       "<div>\n",
       "<style scoped>\n",
       "    .dataframe tbody tr th:only-of-type {\n",
       "        vertical-align: middle;\n",
       "    }\n",
       "\n",
       "    .dataframe tbody tr th {\n",
       "        vertical-align: top;\n",
       "    }\n",
       "\n",
       "    .dataframe thead th {\n",
       "        text-align: right;\n",
       "    }\n",
       "</style>\n",
       "<table border=\"1\" class=\"dataframe\">\n",
       "  <thead>\n",
       "    <tr style=\"text-align: right;\">\n",
       "      <th></th>\n",
       "      <th>Title</th>\n",
       "      <th>Company</th>\n",
       "      <th>Location</th>\n",
       "      <th>Salary</th>\n",
       "      <th>Date</th>\n",
       "      <th>Rating</th>\n",
       "    </tr>\n",
       "  </thead>\n",
       "  <tbody>\n",
       "    <tr>\n",
       "      <th>0</th>\n",
       "      <td>Data Engineer</td>\n",
       "      <td>HyperJar Limited</td>\n",
       "      <td>London W2 6LG</td>\n",
       "      <td>£35,000 - £50,000 a year</td>\n",
       "      <td>Just posted</td>\n",
       "      <td>NaN</td>\n",
       "    </tr>\n",
       "    <tr>\n",
       "      <th>1</th>\n",
       "      <td>Data Entry Administrator</td>\n",
       "      <td>Simon Charles Auctioneers &amp; Valuers</td>\n",
       "      <td>Stockport SK6 2SD</td>\n",
       "      <td>£8.72 an hour</td>\n",
       "      <td>Just posted</td>\n",
       "      <td>NaN</td>\n",
       "    </tr>\n",
       "    <tr>\n",
       "      <th>2</th>\n",
       "      <td>Data Analyst</td>\n",
       "      <td>TikTok</td>\n",
       "      <td>London</td>\n",
       "      <td>NaN</td>\n",
       "      <td>28 days ago</td>\n",
       "      <td>4.0</td>\n",
       "    </tr>\n",
       "    <tr>\n",
       "      <th>3</th>\n",
       "      <td>SEN Data Quality Officer</td>\n",
       "      <td>Spencer Clarke Group</td>\n",
       "      <td>Lambeth</td>\n",
       "      <td>£18 - £23 an hour</td>\n",
       "      <td>5 days ago</td>\n",
       "      <td>NaN</td>\n",
       "    </tr>\n",
       "    <tr>\n",
       "      <th>4</th>\n",
       "      <td>Data Analyst</td>\n",
       "      <td>Aula Education</td>\n",
       "      <td>Home Based</td>\n",
       "      <td>£300 - £400 a day</td>\n",
       "      <td>6 days ago</td>\n",
       "      <td>NaN</td>\n",
       "    </tr>\n",
       "    <tr>\n",
       "      <th>5</th>\n",
       "      <td>Data Entry Clerks</td>\n",
       "      <td>DirectTemping</td>\n",
       "      <td>Borough Station</td>\n",
       "      <td>£10.75 an hour</td>\n",
       "      <td>14 days ago</td>\n",
       "      <td>NaN</td>\n",
       "    </tr>\n",
       "    <tr>\n",
       "      <th>6</th>\n",
       "      <td>PUBLIC HEALTH DATA OFFICER</td>\n",
       "      <td>Intec Select</td>\n",
       "      <td>Morden</td>\n",
       "      <td>£280 - £320 a week</td>\n",
       "      <td>8 days ago</td>\n",
       "      <td>NaN</td>\n",
       "    </tr>\n",
       "    <tr>\n",
       "      <th>7</th>\n",
       "      <td>Data Scientist Intern</td>\n",
       "      <td>Buzz Radar</td>\n",
       "      <td>London</td>\n",
       "      <td>NaN</td>\n",
       "      <td>27 days ago</td>\n",
       "      <td>NaN</td>\n",
       "    </tr>\n",
       "    <tr>\n",
       "      <th>8</th>\n",
       "      <td>DATA ANALYST</td>\n",
       "      <td>Dr Martens</td>\n",
       "      <td>London</td>\n",
       "      <td>NaN</td>\n",
       "      <td>6 days ago</td>\n",
       "      <td>4.1</td>\n",
       "    </tr>\n",
       "    <tr>\n",
       "      <th>9</th>\n",
       "      <td>Part Time role Data &amp; Compliance Administrator</td>\n",
       "      <td>Capita Plc</td>\n",
       "      <td>Chichester</td>\n",
       "      <td>£19,000 a year</td>\n",
       "      <td>10 days ago</td>\n",
       "      <td>3.2</td>\n",
       "    </tr>\n",
       "    <tr>\n",
       "      <th>10</th>\n",
       "      <td>Admissions and Data Services Administrator</td>\n",
       "      <td>University of Cambridge</td>\n",
       "      <td>Cambridge</td>\n",
       "      <td>£26,715 - £30,942 a year</td>\n",
       "      <td>8 days ago</td>\n",
       "      <td>4.2</td>\n",
       "    </tr>\n",
       "    <tr>\n",
       "      <th>11</th>\n",
       "      <td>Social Research Data Collector</td>\n",
       "      <td>Kantar</td>\n",
       "      <td>Northampton</td>\n",
       "      <td>£80 - £100 a day</td>\n",
       "      <td>11 days ago</td>\n",
       "      <td>3.7</td>\n",
       "    </tr>\n",
       "    <tr>\n",
       "      <th>12</th>\n",
       "      <td>Junior Data Scientist</td>\n",
       "      <td>Novafutur</td>\n",
       "      <td>London</td>\n",
       "      <td>NaN</td>\n",
       "      <td>30+ days ago</td>\n",
       "      <td>NaN</td>\n",
       "    </tr>\n",
       "    <tr>\n",
       "      <th>13</th>\n",
       "      <td>ITV Apprenticeship - Data Scientist Apprentice</td>\n",
       "      <td>ITV Jobs</td>\n",
       "      <td>London</td>\n",
       "      <td>£21,032 a year</td>\n",
       "      <td>Today</td>\n",
       "      <td>4.0</td>\n",
       "    </tr>\n",
       "    <tr>\n",
       "      <th>14</th>\n",
       "      <td>Performance Data Analyst</td>\n",
       "      <td>Global Project Resources Limited</td>\n",
       "      <td>Bexleyheath DA6</td>\n",
       "      <td>£16 - £18 an hour</td>\n",
       "      <td>3 days ago</td>\n",
       "      <td>NaN</td>\n",
       "    </tr>\n",
       "  </tbody>\n",
       "</table>\n",
       "</div>"
      ],
      "text/plain": [
       "                                             Title  \\\n",
       "0                                    Data Engineer   \n",
       "1                         Data Entry Administrator   \n",
       "2                                     Data Analyst   \n",
       "3                         SEN Data Quality Officer   \n",
       "4                                     Data Analyst   \n",
       "5                                Data Entry Clerks   \n",
       "6                       PUBLIC HEALTH DATA OFFICER   \n",
       "7                            Data Scientist Intern   \n",
       "8                                     DATA ANALYST   \n",
       "9   Part Time role Data & Compliance Administrator   \n",
       "10      Admissions and Data Services Administrator   \n",
       "11                  Social Research Data Collector   \n",
       "12                           Junior Data Scientist   \n",
       "13  ITV Apprenticeship - Data Scientist Apprentice   \n",
       "14                        Performance Data Analyst   \n",
       "\n",
       "                                Company           Location  \\\n",
       "0                      HyperJar Limited      London W2 6LG   \n",
       "1   Simon Charles Auctioneers & Valuers  Stockport SK6 2SD   \n",
       "2                                TikTok             London   \n",
       "3                  Spencer Clarke Group            Lambeth   \n",
       "4                        Aula Education         Home Based   \n",
       "5                         DirectTemping    Borough Station   \n",
       "6                          Intec Select             Morden   \n",
       "7                            Buzz Radar             London   \n",
       "8                            Dr Martens             London   \n",
       "9                            Capita Plc         Chichester   \n",
       "10              University of Cambridge          Cambridge   \n",
       "11                               Kantar        Northampton   \n",
       "12                            Novafutur             London   \n",
       "13                             ITV Jobs             London   \n",
       "14     Global Project Resources Limited    Bexleyheath DA6   \n",
       "\n",
       "                      Salary          Date Rating  \n",
       "0   £35,000 - £50,000 a year   Just posted    NaN  \n",
       "1              £8.72 an hour   Just posted    NaN  \n",
       "2                        NaN   28 days ago    4.0  \n",
       "3          £18 - £23 an hour    5 days ago    NaN  \n",
       "4          £300 - £400 a day    6 days ago    NaN  \n",
       "5             £10.75 an hour   14 days ago    NaN  \n",
       "6         £280 - £320 a week    8 days ago    NaN  \n",
       "7                        NaN   27 days ago    NaN  \n",
       "8                        NaN    6 days ago    4.1  \n",
       "9             £19,000 a year   10 days ago    3.2  \n",
       "10  £26,715 - £30,942 a year    8 days ago    4.2  \n",
       "11          £80 - £100 a day   11 days ago    3.7  \n",
       "12                       NaN  30+ days ago    NaN  \n",
       "13            £21,032 a year         Today    4.0  \n",
       "14         £16 - £18 an hour    3 days ago    NaN  "
      ]
     },
     "execution_count": 16,
     "metadata": {},
     "output_type": "execute_result"
    }
   ],
   "source": [
    "data_jobs = pd.DataFrame({'Title': title,\n",
    "                        'Company': company,'Location': location,'Salary': salary,'Date': date,'Rating':rating\n",
    "                         })\n",
    "data_jobs"
   ]
  },
  {
   "cell_type": "markdown",
   "metadata": {
    "focus": false,
    "id": "34070e89-9521-4b45-90c8-57a6599aac68"
   },
   "source": [
    "Now, to scale up our scraping, we need to accumulate more results. We can do this by examining the URL above.\n",
    "\n",
    "- \"http://www.indeed.com/jobs?q=data+scientist+%2420%2C000&l=New+York&start=10\"\n",
    "\n",
    "There are two query parameters here we can alter to collect more results, the `l=New+York` and the `start=10`. The first controls the location of the results (so we can try a different city). The second controls where in the results to start and gives 10 results (thus, we can keep incrementing by 10 to go further in the list)."
   ]
  },
  {
   "cell_type": "markdown",
   "metadata": {
    "focus": false,
    "id": "e8beed7c-3e42-40c0-810f-5f67f8f885a0"
   },
   "source": [
    "### Complete the following code to collect results from multiple cities and starting points. \n",
    "- Enter your city below to add it to the search.\n",
    "- Remember to convert your salary to U.S. Dollars to match the other cities if the currency is different."
   ]
  },
  {
   "cell_type": "code",
   "execution_count": null,
   "metadata": {
    "focus": false,
    "id": "a9aa87ec-3575-4a01-a986-eb684f2c47d0"
   },
   "outputs": [],
   "source": [
    "YOUR_CITY = ''"
   ]
  },
  {
   "cell_type": "code",
   "execution_count": null,
   "metadata": {
    "focus": false,
    "id": "04b0f9af-540e-402f-8292-81748707c676"
   },
   "outputs": [],
   "source": [
    "url_template = \"https://www.indeed.co.uk/jobs?q=data&l=United+Kingdom&start={}\"\n",
    "max_results_per_city = 5000 # Set this to a high-value (5000) to generate more results. \n",
    "# Crawling more results, will also take much longer. First test your code on a small number of results and then expand.\n",
    "\n",
    "results = []\n",
    "\n",
    "for city in set(['London', 'Birmingham', 'Bristol', 'Leicester', 'Manchester',\n",
    "    'Newcastle+Upon+Tyne', 'York', 'Sheffield', 'Nottingham', 'Liverpool', 'Portsmouth', 'Southampton',\n",
    "    'Kingston', 'Edinburgh', 'Cambridge','Coventry','Plymouth','Wolverhampton','Glasgow','Leeds','Stoke-on-Trent',\n",
    "    'Bradford','Brighton','Croydon']):\n",
    "    for start in tqdm(range(0, max_results_per_city, 10)):\n",
    "        r_ = requests.get(url.format(city, start))\n",
    "        soup = BeautifulSoup(r_.text,'html.parser')\n",
    "        results.append(soup)\n",
    "        pass"
   ]
  },
  {
   "cell_type": "markdown",
   "metadata": {
    "focus": false,
    "id": "20339c09-5032-4e27-91be-286e9b46cd13"
   },
   "source": [
    "#### Use the functions you wrote above to parse out the 4 fields - location, title, company and salary. Create a dataframe from the results with those 4 columns."
   ]
  },
  {
   "cell_type": "code",
   "execution_count": null,
   "metadata": {
    "focus": false,
    "id": "6e259594-1c52-436b-ab9e-527e071941c1"
   },
   "outputs": [],
   "source": [
    "title = []\n",
    "location = []\n",
    "company = []\n",
    "salary=[]\n",
    "date = []\n",
    "rating = []\n",
    "\n",
    "for job in results:\n",
    "        try:\n",
    "            title.append(job.find(class_='jobtitle').text.replace('\\n',''))\n",
    "        except:\n",
    "            title.append(np.nan)\n",
    "        try:\n",
    "            location.append(job.find(class_=\"location\").text)\n",
    "        except:\n",
    "            location.append(np.nan)\n",
    "        try:\n",
    "            company.append(job.find(class_='company').text.replace('\\n',''))\n",
    "        except:\n",
    "            company.append(np.nan)\n",
    "        try:\n",
    "            salary.append(job.find(class_='salary').text.replace('\\n',''))\n",
    "        except:\n",
    "            salary.append(np.nan)\n",
    "        try:\n",
    "            date.append(job.find(class_='date').text)\n",
    "        except:\n",
    "            date.append(np.nan)\n",
    "        try:\n",
    "            rating.append(job.find(class_='ratingsContent').text.replace(\"\\n\",\"\"))\n",
    "        except:\n",
    "            rating.append(np.nan)\n",
    "            \n",
    "job_scrape = pd.DataFrame({'Title': title,\n",
    "                        'Company': company,'Location': location,'Salary': salary,'Date': date,'Rating':rating\n",
    "                         })\n",
    "job_scrape"
   ]
  },
  {
   "cell_type": "code",
   "execution_count": null,
   "metadata": {},
   "outputs": [],
   "source": [
    "def data_overview(job_scrape, sort='Missing%'):\n",
    "    list_of_numerics=job_scrape.select_dtypes(include=['float','int']).columns\n",
    "    types= job_scrape.dtypes\n",
    "    missing= round((job_scrape.isnull().sum()/job_scrape.shape[0]),3)*100\n",
    "    overview = job_scrape.apply(lambda x: [round(x.min()), \n",
    "                                      round(x.quantile(0.5)),\n",
    "                                      round(x.max()), \n",
    "                                      round(x.mean())] if x.name in list_of_numerics else x.nunique())\n",
    "    outliers = job_scrape.apply(lambda x: sum(\n",
    "                                     (x<(x.quantile(0.25)-1.5*(x.quantile(0.75)-x.quantile(0.25))))|\n",
    "                                     (x>(x.quantile(0.75)+1.5*(x.quantile(0.75)-x.quantile(0.25))))\n",
    "                                     if x.name in list_of_numerics else ''))\n",
    "    explo = pd.DataFrame({'Types': types,\n",
    "                          'Missing%': missing,\n",
    "                          'Overview': overview,\n",
    "                          'Outliers': outliers})\n",
    "    return explo.sort_values(by=sort, ascending=False)"
   ]
  },
  {
   "cell_type": "code",
   "execution_count": null,
   "metadata": {},
   "outputs": [],
   "source": [
    "data_overview(job_scrape)"
   ]
  },
  {
   "cell_type": "markdown",
   "metadata": {
    "focus": false,
    "id": "ff98ce64-78a7-441f-a675-63464e32c834"
   },
   "source": [
    "Lastly, we need to clean up salary data. \n",
    "\n",
    "1. Only a small number of the scraped results have salary information - only these will be used for modeling.\n",
    "1. Some of the salaries are not yearly but hourly or weekly, these will not be useful to us for now.\n",
    "1. Some of the entries may be duplicated.\n",
    "1. The salaries are given as text and usually with ranges."
   ]
  },
  {
   "cell_type": "markdown",
   "metadata": {
    "focus": false,
    "id": "ff98ce64-78a7-441f-a675-63464e32c834"
   },
   "source": [
    "#### Find the entries with annual salary entries, by filtering the entries without salaries or salaries that are not yearly (filter those that refer to hour or week). Also, remove duplicate entries."
   ]
  },
  {
   "cell_type": "code",
   "execution_count": null,
   "metadata": {},
   "outputs": [],
   "source": [
    "job_scrape"
   ]
  },
  {
   "cell_type": "code",
   "execution_count": null,
   "metadata": {},
   "outputs": [],
   "source": [
    "job_scrape.drop(['Date', 'Rating'], axis=1, inplace=True)"
   ]
  },
  {
   "cell_type": "code",
   "execution_count": null,
   "metadata": {
    "scrolled": true
   },
   "outputs": [],
   "source": [
    "#removal of duplicates\n",
    "df = job_scrape.drop_duplicates()"
   ]
  },
  {
   "cell_type": "code",
   "execution_count": null,
   "metadata": {},
   "outputs": [],
   "source": [
    "#reset index\n",
    "df = df.reset_index(drop=True)"
   ]
  },
  {
   "cell_type": "code",
   "execution_count": null,
   "metadata": {},
   "outputs": [],
   "source": [
    "df"
   ]
  },
  {
   "cell_type": "code",
   "execution_count": null,
   "metadata": {},
   "outputs": [],
   "source": [
    "df.dropna(inplace=True)"
   ]
  },
  {
   "cell_type": "code",
   "execution_count": null,
   "metadata": {},
   "outputs": [],
   "source": [
    "df"
   ]
  },
  {
   "cell_type": "code",
   "execution_count": null,
   "metadata": {},
   "outputs": [],
   "source": [
    "df['Salary'] = df['Salary'].str.replace(r'a year$', '')"
   ]
  },
  {
   "cell_type": "code",
   "execution_count": null,
   "metadata": {},
   "outputs": [],
   "source": [
    "df['Salary'] = df['Salary'].str.replace(r'an hour$', '')"
   ]
  },
  {
   "cell_type": "code",
   "execution_count": null,
   "metadata": {},
   "outputs": [],
   "source": [
    "df['Salary'] = df['Salary'].str.replace(r'a day$', '')"
   ]
  },
  {
   "cell_type": "code",
   "execution_count": null,
   "metadata": {},
   "outputs": [],
   "source": [
    "df['Salary'] = df['Salary'].str.replace(r'£', '')"
   ]
  },
  {
   "cell_type": "markdown",
   "metadata": {
    "focus": false,
    "id": "7d4bc860-b214-4f75-9cd0-b234830b1ec2"
   },
   "source": [
    "#### Write a function that takes a salary string and converts it to a number, averaging a salary range if necessary."
   ]
  },
  {
   "cell_type": "code",
   "execution_count": null,
   "metadata": {},
   "outputs": [],
   "source": [
    "def sal_to_num(salary):\n",
    "    sal= int\n",
    "    '''Takes in a salary entry (as string) and extracts the digits as an integer.\n",
    "    If the salary is in a range (eg 20,000-25,00) it returns the average'''\n",
    "    \n",
    "    try:\n",
    "        sal = int(''.join(re.findall(r'([\\d-])', salary)))\n",
    "    except:\n",
    "        sal = (int(''.join(re.findall(r'([\\d-])', salary)).split(\"-\")[0]) + int(''.join(re.findall(r'([\\d-])', salary)).split(\"-\")[1])) / 2\n",
    "    \n",
    "    \n",
    "    return int(sal)\n",
    "        \n",
    "df.loc[:,'Salary'] = df.Salary.map(lambda x: sal_to_num(x)).copy()"
   ]
  },
  {
   "cell_type": "code",
   "execution_count": null,
   "metadata": {},
   "outputs": [],
   "source": [
    "df"
   ]
  },
  {
   "cell_type": "code",
   "execution_count": null,
   "metadata": {},
   "outputs": [],
   "source": []
  },
  {
   "cell_type": "markdown",
   "metadata": {
    "focus": false,
    "id": "43e71edd-210e-42b1-9336-70a931f048af"
   },
   "source": [
    "### Save your results as a CSV"
   ]
  },
  {
   "cell_type": "code",
   "execution_count": null,
   "metadata": {
    "focus": false,
    "id": "783fd153-28ac-47ab-bfca-27e7c1de95b4"
   },
   "outputs": [],
   "source": [
    "## YOUR CODE HERE"
   ]
  },
  {
   "cell_type": "markdown",
   "metadata": {
    "focus": false,
    "id": "243e949e-2742-40af-872e-fec475fd306c"
   },
   "source": [
    "### Load in the the data of scraped salaries"
   ]
  },
  {
   "cell_type": "code",
   "execution_count": null,
   "metadata": {
    "focus": false,
    "id": "588f9845-6143-4bcc-bfd1-85d45b79303d"
   },
   "outputs": [],
   "source": [
    "## YOUR CODE HERE"
   ]
  },
  {
   "cell_type": "markdown",
   "metadata": {
    "focus": false,
    "id": "c7631f51-07f2-4c79-a093-3e9bc7849a48"
   },
   "source": [
    "### We want to predict a binary variable - whether the salary was low or high. Compute the median salary and create a new binary variable that is true when the salary is high (above the median).\n",
    "\n",
    "We could also perform Linear Regression (or any regression) to predict the salary value here. Instead, we are going to convert this into a _binary_ classification problem, by predicting two classes, HIGH vs LOW salary.\n",
    "\n",
    "While performing regression may be better, performing classification may help remove some of the noise of the extreme salaries. We don't have to choose the `median` as the splitting point - we could also split on the 75th percentile or any other reasonable breaking point.\n",
    "\n",
    "In fact, the ideal scenario may be to predict many levels of salaries."
   ]
  },
  {
   "cell_type": "code",
   "execution_count": null,
   "metadata": {},
   "outputs": [],
   "source": []
  },
  {
   "cell_type": "code",
   "execution_count": null,
   "metadata": {
    "focus": false,
    "id": "c20d2498-151c-44c3-a453-3a333c79a0ac"
   },
   "outputs": [],
   "source": [
    "## YOUR CODE HERE"
   ]
  },
  {
   "cell_type": "markdown",
   "metadata": {
    "focus": false,
    "id": "a7afb2c0-d41e-4779-8216-91cd8dd4473f"
   },
   "source": [
    "#### Thought experiment: What is the baseline accuracy for this model?"
   ]
  },
  {
   "cell_type": "code",
   "execution_count": null,
   "metadata": {
    "focus": false,
    "id": "87a17d3d-b7f4-4747-9f75-f9af1d18a174"
   },
   "outputs": [],
   "source": [
    "## YOUR CODE HERE"
   ]
  },
  {
   "cell_type": "markdown",
   "metadata": {
    "focus": false,
    "id": "4fb29de2-5b98-474c-a4ad-5170b72b9aea"
   },
   "source": [
    "### Create a classification model to predict High/Low salary. \n",
    "\n",
    "\n",
    "- Start by ONLY using the location as a feature.\n",
    "- Use at least two different classifiers you find suitable.\n",
    "- Remember that scaling your features might be necessary.\n",
    "- Display the coefficients/feature importances and write a short summary of what they mean.\n",
    "- Create a few new variables in your dataframe to represent interesting features of a job title (e.g. whether 'Senior' or 'Manager' is in the title).\n",
    "- Incorporate other text features from the title or summary that you believe will predict the salary.\n",
    "- Then build new classification models including also those features. Do they add any value?\n",
    "- Tune your models by testing parameter ranges, regularization strengths, etc. Discuss how that affects your models.\n",
    "- Discuss model coefficients or feature importances as applicable."
   ]
  },
  {
   "cell_type": "code",
   "execution_count": null,
   "metadata": {},
   "outputs": [],
   "source": [
    "## YOUR CODE HERE"
   ]
  },
  {
   "cell_type": "markdown",
   "metadata": {
    "focus": false,
    "id": "4fb29de2-5b98-474c-a4ad-5170b72b9aea"
   },
   "source": [
    "### Model evaluation:\n",
    "\n",
    "Your boss would rather tell a client incorrectly that they would get a lower salary job than tell a client incorrectly that they would get a high salary job. Adjust one of your models to ease his mind, and explain what it is doing and any tradeoffs.\n",
    "\n",
    "\n",
    "- Use cross-validation to evaluate your models.\n",
    "- Evaluate the accuracy, AUC, precision and recall of the models.\n",
    "- Plot the ROC and precision-recall curves for at least one of your models."
   ]
  },
  {
   "cell_type": "code",
   "execution_count": null,
   "metadata": {},
   "outputs": [],
   "source": [
    "## YOUR CODE HERE"
   ]
  },
  {
   "cell_type": "markdown",
   "metadata": {
    "focus": false,
    "id": "4fb29de2-5b98-474c-a4ad-5170b72b9aea"
   },
   "source": [
    "<img src=\"http://imgur.com/xDpSobf.png\" style=\"float: left; margin: 25px 15px 0px 0px; height: 25px\">\n",
    "\n",
    "### Bonus:\n",
    "\n",
    "- Answer the salary discussion by using your model to explain the tradeoffs between detecting high vs low salary positions. \n",
    "- Discuss the differences and explain when you want a high-recall or a high-precision model in this scenario.\n",
    "- Obtain the ROC/precision-recall curves for the different models you studied (at least the tuned model of each category) and compare."
   ]
  },
  {
   "cell_type": "code",
   "execution_count": null,
   "metadata": {
    "focus": false,
    "id": "068dc1cf-7fd7-4f27-a1f1-7f0a5a221d29"
   },
   "outputs": [],
   "source": [
    "## YOUR CODE HERE"
   ]
  },
  {
   "cell_type": "markdown",
   "metadata": {},
   "source": [
    "### Summarize your results in an executive summary written for a non-technical audience.\n",
    "   \n",
    "- Writeups should be at least 500-1000 words, defining any technical terms, explaining your approach, as well as any risks and limitations."
   ]
  },
  {
   "cell_type": "code",
   "execution_count": null,
   "metadata": {},
   "outputs": [],
   "source": [
    "## YOUR TEXT HERE IN MARKDOWN FORMAT "
   ]
  },
  {
   "cell_type": "markdown",
   "metadata": {},
   "source": [
    "<img src=\"http://imgur.com/xDpSobf.png\" style=\"float: left; margin: 25px 15px 0px 0px; height: 25px\">\n",
    "\n",
    "### BONUS\n",
    "\n",
    "Convert your executive summary into a public blog post of at least 500 words, in which you document your approach in a tutorial for other aspiring data scientists. Link to this in your notebook."
   ]
  },
  {
   "cell_type": "code",
   "execution_count": null,
   "metadata": {},
   "outputs": [],
   "source": [
    "## YOUR LINK HERE IN MARKDOWN FORMAT "
   ]
  }
 ],
 "metadata": {
  "kernelspec": {
   "display_name": "Python 3",
   "language": "python",
   "name": "python3"
  },
  "toc": {
   "base_numbering": 1,
   "nav_menu": {},
   "number_sections": false,
   "sideBar": true,
   "skip_h1_title": true,
   "title_cell": "Table of Contents",
   "title_sidebar": "Contents",
   "toc_cell": false,
   "toc_position": {},
   "toc_section_display": "block",
   "toc_window_display": false
  }
 },
 "nbformat": 4,
 "nbformat_minor": 1
}
